{
 "cells": [
  {
   "cell_type": "markdown",
   "id": "02ecfb4f-50d3-4c14-8e28-dccbeb20d1e0",
   "metadata": {},
   "source": [
    "# CAPSTONE PROJECT SPORT-STATS\n",
    "\n",
    "### Leonardo Saviane codes"
   ]
  },
  {
   "cell_type": "code",
   "execution_count": 1,
   "id": "d497d073-256b-4d41-b117-b273b3c7e7e5",
   "metadata": {},
   "outputs": [],
   "source": [
    "import pandas as pd\n",
    "import numpy as np\n",
    "import matplotlib as mpl\n",
    "import matplotlib.pyplot as plt\n",
    "import seaborn as sns\n",
    "import scipy.stats as ss \n",
    "\n",
    "from pandasql import sqldf\n",
    "pysqldf = lambda q: sqldf(q,globals())"
   ]
  },
  {
   "cell_type": "code",
   "execution_count": 2,
   "id": "48970bdb-682c-4bdd-8714-4f473a4418b5",
   "metadata": {},
   "outputs": [
    {
     "data": {
      "text/html": [
       "<div>\n",
       "<style scoped>\n",
       "    .dataframe tbody tr th:only-of-type {\n",
       "        vertical-align: middle;\n",
       "    }\n",
       "\n",
       "    .dataframe tbody tr th {\n",
       "        vertical-align: top;\n",
       "    }\n",
       "\n",
       "    .dataframe thead th {\n",
       "        text-align: right;\n",
       "    }\n",
       "</style>\n",
       "<table border=\"1\" class=\"dataframe\">\n",
       "  <thead>\n",
       "    <tr style=\"text-align: right;\">\n",
       "      <th></th>\n",
       "      <th>ID</th>\n",
       "      <th>Name</th>\n",
       "      <th>Sex</th>\n",
       "      <th>Age</th>\n",
       "      <th>Height</th>\n",
       "      <th>Weight</th>\n",
       "      <th>Team</th>\n",
       "      <th>NOC</th>\n",
       "      <th>Games</th>\n",
       "      <th>Year</th>\n",
       "      <th>Season</th>\n",
       "      <th>City</th>\n",
       "      <th>Sport</th>\n",
       "      <th>Event</th>\n",
       "      <th>Medal</th>\n",
       "    </tr>\n",
       "  </thead>\n",
       "  <tbody>\n",
       "    <tr>\n",
       "      <th>0</th>\n",
       "      <td>1</td>\n",
       "      <td>A Dijiang</td>\n",
       "      <td>M</td>\n",
       "      <td>24.0</td>\n",
       "      <td>180.0</td>\n",
       "      <td>80.0</td>\n",
       "      <td>China</td>\n",
       "      <td>CHN</td>\n",
       "      <td>1992 Summer</td>\n",
       "      <td>1992</td>\n",
       "      <td>Summer</td>\n",
       "      <td>Barcelona</td>\n",
       "      <td>Basketball</td>\n",
       "      <td>Basketball Men's Basketball</td>\n",
       "      <td>NaN</td>\n",
       "    </tr>\n",
       "    <tr>\n",
       "      <th>1</th>\n",
       "      <td>2</td>\n",
       "      <td>A Lamusi</td>\n",
       "      <td>M</td>\n",
       "      <td>23.0</td>\n",
       "      <td>170.0</td>\n",
       "      <td>60.0</td>\n",
       "      <td>China</td>\n",
       "      <td>CHN</td>\n",
       "      <td>2012 Summer</td>\n",
       "      <td>2012</td>\n",
       "      <td>Summer</td>\n",
       "      <td>London</td>\n",
       "      <td>Judo</td>\n",
       "      <td>Judo Men's Extra-Lightweight</td>\n",
       "      <td>NaN</td>\n",
       "    </tr>\n",
       "    <tr>\n",
       "      <th>2</th>\n",
       "      <td>3</td>\n",
       "      <td>Gunnar Nielsen Aaby</td>\n",
       "      <td>M</td>\n",
       "      <td>24.0</td>\n",
       "      <td>NaN</td>\n",
       "      <td>NaN</td>\n",
       "      <td>Denmark</td>\n",
       "      <td>DEN</td>\n",
       "      <td>1920 Summer</td>\n",
       "      <td>1920</td>\n",
       "      <td>Summer</td>\n",
       "      <td>Antwerpen</td>\n",
       "      <td>Football</td>\n",
       "      <td>Football Men's Football</td>\n",
       "      <td>NaN</td>\n",
       "    </tr>\n",
       "    <tr>\n",
       "      <th>3</th>\n",
       "      <td>4</td>\n",
       "      <td>Edgar Lindenau Aabye</td>\n",
       "      <td>M</td>\n",
       "      <td>34.0</td>\n",
       "      <td>NaN</td>\n",
       "      <td>NaN</td>\n",
       "      <td>Denmark/Sweden</td>\n",
       "      <td>DEN</td>\n",
       "      <td>1900 Summer</td>\n",
       "      <td>1900</td>\n",
       "      <td>Summer</td>\n",
       "      <td>Paris</td>\n",
       "      <td>Tug-Of-War</td>\n",
       "      <td>Tug-Of-War Men's Tug-Of-War</td>\n",
       "      <td>Gold</td>\n",
       "    </tr>\n",
       "    <tr>\n",
       "      <th>4</th>\n",
       "      <td>5</td>\n",
       "      <td>Christine Jacoba Aaftink</td>\n",
       "      <td>F</td>\n",
       "      <td>21.0</td>\n",
       "      <td>185.0</td>\n",
       "      <td>82.0</td>\n",
       "      <td>Netherlands</td>\n",
       "      <td>NED</td>\n",
       "      <td>1988 Winter</td>\n",
       "      <td>1988</td>\n",
       "      <td>Winter</td>\n",
       "      <td>Calgary</td>\n",
       "      <td>Speed Skating</td>\n",
       "      <td>Speed Skating Women's 500 metres</td>\n",
       "      <td>NaN</td>\n",
       "    </tr>\n",
       "    <tr>\n",
       "      <th>...</th>\n",
       "      <td>...</td>\n",
       "      <td>...</td>\n",
       "      <td>...</td>\n",
       "      <td>...</td>\n",
       "      <td>...</td>\n",
       "      <td>...</td>\n",
       "      <td>...</td>\n",
       "      <td>...</td>\n",
       "      <td>...</td>\n",
       "      <td>...</td>\n",
       "      <td>...</td>\n",
       "      <td>...</td>\n",
       "      <td>...</td>\n",
       "      <td>...</td>\n",
       "      <td>...</td>\n",
       "    </tr>\n",
       "    <tr>\n",
       "      <th>271111</th>\n",
       "      <td>135569</td>\n",
       "      <td>Andrzej ya</td>\n",
       "      <td>M</td>\n",
       "      <td>29.0</td>\n",
       "      <td>179.0</td>\n",
       "      <td>89.0</td>\n",
       "      <td>Poland-1</td>\n",
       "      <td>POL</td>\n",
       "      <td>1976 Winter</td>\n",
       "      <td>1976</td>\n",
       "      <td>Winter</td>\n",
       "      <td>Innsbruck</td>\n",
       "      <td>Luge</td>\n",
       "      <td>Luge Mixed (Men)'s Doubles</td>\n",
       "      <td>NaN</td>\n",
       "    </tr>\n",
       "    <tr>\n",
       "      <th>271112</th>\n",
       "      <td>135570</td>\n",
       "      <td>Piotr ya</td>\n",
       "      <td>M</td>\n",
       "      <td>27.0</td>\n",
       "      <td>176.0</td>\n",
       "      <td>59.0</td>\n",
       "      <td>Poland</td>\n",
       "      <td>POL</td>\n",
       "      <td>2014 Winter</td>\n",
       "      <td>2014</td>\n",
       "      <td>Winter</td>\n",
       "      <td>Sochi</td>\n",
       "      <td>Ski Jumping</td>\n",
       "      <td>Ski Jumping Men's Large Hill, Individual</td>\n",
       "      <td>NaN</td>\n",
       "    </tr>\n",
       "    <tr>\n",
       "      <th>271113</th>\n",
       "      <td>135570</td>\n",
       "      <td>Piotr ya</td>\n",
       "      <td>M</td>\n",
       "      <td>27.0</td>\n",
       "      <td>176.0</td>\n",
       "      <td>59.0</td>\n",
       "      <td>Poland</td>\n",
       "      <td>POL</td>\n",
       "      <td>2014 Winter</td>\n",
       "      <td>2014</td>\n",
       "      <td>Winter</td>\n",
       "      <td>Sochi</td>\n",
       "      <td>Ski Jumping</td>\n",
       "      <td>Ski Jumping Men's Large Hill, Team</td>\n",
       "      <td>NaN</td>\n",
       "    </tr>\n",
       "    <tr>\n",
       "      <th>271114</th>\n",
       "      <td>135571</td>\n",
       "      <td>Tomasz Ireneusz ya</td>\n",
       "      <td>M</td>\n",
       "      <td>30.0</td>\n",
       "      <td>185.0</td>\n",
       "      <td>96.0</td>\n",
       "      <td>Poland</td>\n",
       "      <td>POL</td>\n",
       "      <td>1998 Winter</td>\n",
       "      <td>1998</td>\n",
       "      <td>Winter</td>\n",
       "      <td>Nagano</td>\n",
       "      <td>Bobsleigh</td>\n",
       "      <td>Bobsleigh Men's Four</td>\n",
       "      <td>NaN</td>\n",
       "    </tr>\n",
       "    <tr>\n",
       "      <th>271115</th>\n",
       "      <td>135571</td>\n",
       "      <td>Tomasz Ireneusz ya</td>\n",
       "      <td>M</td>\n",
       "      <td>34.0</td>\n",
       "      <td>185.0</td>\n",
       "      <td>96.0</td>\n",
       "      <td>Poland</td>\n",
       "      <td>POL</td>\n",
       "      <td>2002 Winter</td>\n",
       "      <td>2002</td>\n",
       "      <td>Winter</td>\n",
       "      <td>Salt Lake City</td>\n",
       "      <td>Bobsleigh</td>\n",
       "      <td>Bobsleigh Men's Four</td>\n",
       "      <td>NaN</td>\n",
       "    </tr>\n",
       "  </tbody>\n",
       "</table>\n",
       "<p>271116 rows × 15 columns</p>\n",
       "</div>"
      ],
      "text/plain": [
       "            ID                      Name Sex   Age  Height  Weight  \\\n",
       "0            1                 A Dijiang   M  24.0   180.0    80.0   \n",
       "1            2                  A Lamusi   M  23.0   170.0    60.0   \n",
       "2            3       Gunnar Nielsen Aaby   M  24.0     NaN     NaN   \n",
       "3            4      Edgar Lindenau Aabye   M  34.0     NaN     NaN   \n",
       "4            5  Christine Jacoba Aaftink   F  21.0   185.0    82.0   \n",
       "...        ...                       ...  ..   ...     ...     ...   \n",
       "271111  135569                Andrzej ya   M  29.0   179.0    89.0   \n",
       "271112  135570                  Piotr ya   M  27.0   176.0    59.0   \n",
       "271113  135570                  Piotr ya   M  27.0   176.0    59.0   \n",
       "271114  135571        Tomasz Ireneusz ya   M  30.0   185.0    96.0   \n",
       "271115  135571        Tomasz Ireneusz ya   M  34.0   185.0    96.0   \n",
       "\n",
       "                  Team  NOC        Games  Year  Season            City  \\\n",
       "0                China  CHN  1992 Summer  1992  Summer       Barcelona   \n",
       "1                China  CHN  2012 Summer  2012  Summer          London   \n",
       "2              Denmark  DEN  1920 Summer  1920  Summer       Antwerpen   \n",
       "3       Denmark/Sweden  DEN  1900 Summer  1900  Summer           Paris   \n",
       "4          Netherlands  NED  1988 Winter  1988  Winter         Calgary   \n",
       "...                ...  ...          ...   ...     ...             ...   \n",
       "271111        Poland-1  POL  1976 Winter  1976  Winter       Innsbruck   \n",
       "271112          Poland  POL  2014 Winter  2014  Winter           Sochi   \n",
       "271113          Poland  POL  2014 Winter  2014  Winter           Sochi   \n",
       "271114          Poland  POL  1998 Winter  1998  Winter          Nagano   \n",
       "271115          Poland  POL  2002 Winter  2002  Winter  Salt Lake City   \n",
       "\n",
       "                Sport                                     Event Medal  \n",
       "0          Basketball               Basketball Men's Basketball   NaN  \n",
       "1                Judo              Judo Men's Extra-Lightweight   NaN  \n",
       "2            Football                   Football Men's Football   NaN  \n",
       "3          Tug-Of-War               Tug-Of-War Men's Tug-Of-War  Gold  \n",
       "4       Speed Skating          Speed Skating Women's 500 metres   NaN  \n",
       "...               ...                                       ...   ...  \n",
       "271111           Luge                Luge Mixed (Men)'s Doubles   NaN  \n",
       "271112    Ski Jumping  Ski Jumping Men's Large Hill, Individual   NaN  \n",
       "271113    Ski Jumping        Ski Jumping Men's Large Hill, Team   NaN  \n",
       "271114      Bobsleigh                      Bobsleigh Men's Four   NaN  \n",
       "271115      Bobsleigh                      Bobsleigh Men's Four   NaN  \n",
       "\n",
       "[271116 rows x 15 columns]"
      ]
     },
     "execution_count": 2,
     "metadata": {},
     "output_type": "execute_result"
    }
   ],
   "source": [
    "sport=pd.read_csv('athlete_events.csv')\n",
    "region=pd.read_csv('noc_regions.csv')\n",
    "\n",
    "sport"
   ]
  },
  {
   "cell_type": "markdown",
   "id": "49bf151e-4e6a-49a0-9e14-494f95af80c6",
   "metadata": {},
   "source": [
    "#### 1. Let's get dummies for Sex and Season, Male = 1 and Summer = 1"
   ]
  },
  {
   "cell_type": "code",
   "execution_count": 3,
   "id": "920f7b84-4cbc-4225-95dd-de31ff1e499a",
   "metadata": {},
   "outputs": [],
   "source": [
    "dummies=pd.get_dummies(sport[['Sex','Season']])\n",
    "\n",
    "sport = pd.concat([sport,dummies[['Sex_M','Season_Summer']]],axis=1)\n",
    "\n",
    "sport.drop(['Sex','Season'],axis=1,inplace=True)\n",
    "\n",
    "sport.rename(columns={\"Sex_M\": \"Sex\", \"Season_Summer\": \"Season\"},inplace=True)"
   ]
  },
  {
   "cell_type": "markdown",
   "id": "e1503c69-198d-499a-8c1c-06e034b5b038",
   "metadata": {},
   "source": [
    "#### 2. Let's get dummies for Medal, if the athelete won a bronze/silver/ore medal then medal=1"
   ]
  },
  {
   "cell_type": "code",
   "execution_count": 4,
   "id": "b5848d36-537d-40ed-9a8b-f7989bc8f604",
   "metadata": {},
   "outputs": [
    {
     "data": {
      "text/html": [
       "<div>\n",
       "<style scoped>\n",
       "    .dataframe tbody tr th:only-of-type {\n",
       "        vertical-align: middle;\n",
       "    }\n",
       "\n",
       "    .dataframe tbody tr th {\n",
       "        vertical-align: top;\n",
       "    }\n",
       "\n",
       "    .dataframe thead th {\n",
       "        text-align: right;\n",
       "    }\n",
       "</style>\n",
       "<table border=\"1\" class=\"dataframe\">\n",
       "  <thead>\n",
       "    <tr style=\"text-align: right;\">\n",
       "      <th></th>\n",
       "      <th>ID</th>\n",
       "      <th>Name</th>\n",
       "      <th>Age</th>\n",
       "      <th>Height</th>\n",
       "      <th>Weight</th>\n",
       "      <th>Team</th>\n",
       "      <th>NOC</th>\n",
       "      <th>Games</th>\n",
       "      <th>Year</th>\n",
       "      <th>City</th>\n",
       "      <th>Sport</th>\n",
       "      <th>Event</th>\n",
       "      <th>Sex</th>\n",
       "      <th>Season</th>\n",
       "      <th>Win</th>\n",
       "    </tr>\n",
       "  </thead>\n",
       "  <tbody>\n",
       "    <tr>\n",
       "      <th>0</th>\n",
       "      <td>1</td>\n",
       "      <td>A Dijiang</td>\n",
       "      <td>24.0</td>\n",
       "      <td>180.0</td>\n",
       "      <td>80.0</td>\n",
       "      <td>China</td>\n",
       "      <td>CHN</td>\n",
       "      <td>1992 Summer</td>\n",
       "      <td>1992</td>\n",
       "      <td>Barcelona</td>\n",
       "      <td>Basketball</td>\n",
       "      <td>Basketball Men's Basketball</td>\n",
       "      <td>1</td>\n",
       "      <td>1</td>\n",
       "      <td>0</td>\n",
       "    </tr>\n",
       "    <tr>\n",
       "      <th>1</th>\n",
       "      <td>2</td>\n",
       "      <td>A Lamusi</td>\n",
       "      <td>23.0</td>\n",
       "      <td>170.0</td>\n",
       "      <td>60.0</td>\n",
       "      <td>China</td>\n",
       "      <td>CHN</td>\n",
       "      <td>2012 Summer</td>\n",
       "      <td>2012</td>\n",
       "      <td>London</td>\n",
       "      <td>Judo</td>\n",
       "      <td>Judo Men's Extra-Lightweight</td>\n",
       "      <td>1</td>\n",
       "      <td>1</td>\n",
       "      <td>0</td>\n",
       "    </tr>\n",
       "    <tr>\n",
       "      <th>2</th>\n",
       "      <td>3</td>\n",
       "      <td>Gunnar Nielsen Aaby</td>\n",
       "      <td>24.0</td>\n",
       "      <td>NaN</td>\n",
       "      <td>NaN</td>\n",
       "      <td>Denmark</td>\n",
       "      <td>DEN</td>\n",
       "      <td>1920 Summer</td>\n",
       "      <td>1920</td>\n",
       "      <td>Antwerpen</td>\n",
       "      <td>Football</td>\n",
       "      <td>Football Men's Football</td>\n",
       "      <td>1</td>\n",
       "      <td>1</td>\n",
       "      <td>0</td>\n",
       "    </tr>\n",
       "    <tr>\n",
       "      <th>3</th>\n",
       "      <td>4</td>\n",
       "      <td>Edgar Lindenau Aabye</td>\n",
       "      <td>34.0</td>\n",
       "      <td>NaN</td>\n",
       "      <td>NaN</td>\n",
       "      <td>Denmark/Sweden</td>\n",
       "      <td>DEN</td>\n",
       "      <td>1900 Summer</td>\n",
       "      <td>1900</td>\n",
       "      <td>Paris</td>\n",
       "      <td>Tug-Of-War</td>\n",
       "      <td>Tug-Of-War Men's Tug-Of-War</td>\n",
       "      <td>1</td>\n",
       "      <td>1</td>\n",
       "      <td>1</td>\n",
       "    </tr>\n",
       "    <tr>\n",
       "      <th>4</th>\n",
       "      <td>5</td>\n",
       "      <td>Christine Jacoba Aaftink</td>\n",
       "      <td>21.0</td>\n",
       "      <td>185.0</td>\n",
       "      <td>82.0</td>\n",
       "      <td>Netherlands</td>\n",
       "      <td>NED</td>\n",
       "      <td>1988 Winter</td>\n",
       "      <td>1988</td>\n",
       "      <td>Calgary</td>\n",
       "      <td>Speed Skating</td>\n",
       "      <td>Speed Skating Women's 500 metres</td>\n",
       "      <td>0</td>\n",
       "      <td>0</td>\n",
       "      <td>0</td>\n",
       "    </tr>\n",
       "  </tbody>\n",
       "</table>\n",
       "</div>"
      ],
      "text/plain": [
       "   ID                      Name   Age  Height  Weight            Team  NOC  \\\n",
       "0   1                 A Dijiang  24.0   180.0    80.0           China  CHN   \n",
       "1   2                  A Lamusi  23.0   170.0    60.0           China  CHN   \n",
       "2   3       Gunnar Nielsen Aaby  24.0     NaN     NaN         Denmark  DEN   \n",
       "3   4      Edgar Lindenau Aabye  34.0     NaN     NaN  Denmark/Sweden  DEN   \n",
       "4   5  Christine Jacoba Aaftink  21.0   185.0    82.0     Netherlands  NED   \n",
       "\n",
       "         Games  Year       City          Sport  \\\n",
       "0  1992 Summer  1992  Barcelona     Basketball   \n",
       "1  2012 Summer  2012     London           Judo   \n",
       "2  1920 Summer  1920  Antwerpen       Football   \n",
       "3  1900 Summer  1900      Paris     Tug-Of-War   \n",
       "4  1988 Winter  1988    Calgary  Speed Skating   \n",
       "\n",
       "                              Event  Sex  Season  Win  \n",
       "0       Basketball Men's Basketball    1       1    0  \n",
       "1      Judo Men's Extra-Lightweight    1       1    0  \n",
       "2           Football Men's Football    1       1    0  \n",
       "3       Tug-Of-War Men's Tug-Of-War    1       1    1  \n",
       "4  Speed Skating Women's 500 metres    0       0    0  "
      ]
     },
     "execution_count": 4,
     "metadata": {},
     "output_type": "execute_result"
    }
   ],
   "source": [
    "dummies=pd.get_dummies(sport[['Medal']])\n",
    "\n",
    "sport.drop(['Medal'],axis=1,inplace=True)\n",
    "\n",
    "dummies['Medal'] = dummies.sum(axis=1)\n",
    "\n",
    "sport = pd.concat([sport,dummies[['Medal']]],axis=1)\n",
    "\n",
    "sport.rename(columns={\"Medal\": \"Win\"},inplace=True)\n",
    "\n",
    "sport.head()"
   ]
  },
  {
   "cell_type": "markdown",
   "id": "5a8a022d-c11c-4b82-8f15-ca10e2f5db6c",
   "metadata": {},
   "source": [
    "#### 3. Let's count ho many missing value we have and drop the relative rows to avoid bias estimates"
   ]
  },
  {
   "cell_type": "code",
   "execution_count": 5,
   "id": "a776b9e4-0f9c-4aa1-88c2-b20269218a58",
   "metadata": {},
   "outputs": [
    {
     "name": "stdout",
     "output_type": "stream",
     "text": [
      "COUNT NAN\n",
      "Height    60171\n",
      "Weight    62875\n",
      "Age        9474\n",
      "dtype: int64\n"
     ]
    }
   ],
   "source": [
    "print('COUNT NAN')\n",
    "print(sport[['Height','Weight','Age']].isna().sum())"
   ]
  },
  {
   "cell_type": "code",
   "execution_count": 6,
   "id": "4a57345d-6b44-4f51-a01e-973bc97debdc",
   "metadata": {},
   "outputs": [
    {
     "data": {
      "text/html": [
       "<div>\n",
       "<style scoped>\n",
       "    .dataframe tbody tr th:only-of-type {\n",
       "        vertical-align: middle;\n",
       "    }\n",
       "\n",
       "    .dataframe tbody tr th {\n",
       "        vertical-align: top;\n",
       "    }\n",
       "\n",
       "    .dataframe thead th {\n",
       "        text-align: right;\n",
       "    }\n",
       "</style>\n",
       "<table border=\"1\" class=\"dataframe\">\n",
       "  <thead>\n",
       "    <tr style=\"text-align: right;\">\n",
       "      <th></th>\n",
       "      <th>ID</th>\n",
       "      <th>Name</th>\n",
       "      <th>Age</th>\n",
       "      <th>Height</th>\n",
       "      <th>Weight</th>\n",
       "      <th>Team</th>\n",
       "      <th>NOC</th>\n",
       "      <th>Games</th>\n",
       "      <th>Year</th>\n",
       "      <th>City</th>\n",
       "      <th>Sport</th>\n",
       "      <th>Event</th>\n",
       "      <th>Sex</th>\n",
       "      <th>Season</th>\n",
       "      <th>Win</th>\n",
       "    </tr>\n",
       "  </thead>\n",
       "  <tbody>\n",
       "    <tr>\n",
       "      <th>0</th>\n",
       "      <td>1</td>\n",
       "      <td>A Dijiang</td>\n",
       "      <td>24.0</td>\n",
       "      <td>180.0</td>\n",
       "      <td>80.0</td>\n",
       "      <td>China</td>\n",
       "      <td>CHN</td>\n",
       "      <td>1992 Summer</td>\n",
       "      <td>1992</td>\n",
       "      <td>Barcelona</td>\n",
       "      <td>Basketball</td>\n",
       "      <td>Basketball Men's Basketball</td>\n",
       "      <td>1</td>\n",
       "      <td>1</td>\n",
       "      <td>0</td>\n",
       "    </tr>\n",
       "    <tr>\n",
       "      <th>1</th>\n",
       "      <td>2</td>\n",
       "      <td>A Lamusi</td>\n",
       "      <td>23.0</td>\n",
       "      <td>170.0</td>\n",
       "      <td>60.0</td>\n",
       "      <td>China</td>\n",
       "      <td>CHN</td>\n",
       "      <td>2012 Summer</td>\n",
       "      <td>2012</td>\n",
       "      <td>London</td>\n",
       "      <td>Judo</td>\n",
       "      <td>Judo Men's Extra-Lightweight</td>\n",
       "      <td>1</td>\n",
       "      <td>1</td>\n",
       "      <td>0</td>\n",
       "    </tr>\n",
       "    <tr>\n",
       "      <th>4</th>\n",
       "      <td>5</td>\n",
       "      <td>Christine Jacoba Aaftink</td>\n",
       "      <td>21.0</td>\n",
       "      <td>185.0</td>\n",
       "      <td>82.0</td>\n",
       "      <td>Netherlands</td>\n",
       "      <td>NED</td>\n",
       "      <td>1988 Winter</td>\n",
       "      <td>1988</td>\n",
       "      <td>Calgary</td>\n",
       "      <td>Speed Skating</td>\n",
       "      <td>Speed Skating Women's 500 metres</td>\n",
       "      <td>0</td>\n",
       "      <td>0</td>\n",
       "      <td>0</td>\n",
       "    </tr>\n",
       "    <tr>\n",
       "      <th>5</th>\n",
       "      <td>5</td>\n",
       "      <td>Christine Jacoba Aaftink</td>\n",
       "      <td>21.0</td>\n",
       "      <td>185.0</td>\n",
       "      <td>82.0</td>\n",
       "      <td>Netherlands</td>\n",
       "      <td>NED</td>\n",
       "      <td>1988 Winter</td>\n",
       "      <td>1988</td>\n",
       "      <td>Calgary</td>\n",
       "      <td>Speed Skating</td>\n",
       "      <td>Speed Skating Women's 1,000 metres</td>\n",
       "      <td>0</td>\n",
       "      <td>0</td>\n",
       "      <td>0</td>\n",
       "    </tr>\n",
       "    <tr>\n",
       "      <th>6</th>\n",
       "      <td>5</td>\n",
       "      <td>Christine Jacoba Aaftink</td>\n",
       "      <td>25.0</td>\n",
       "      <td>185.0</td>\n",
       "      <td>82.0</td>\n",
       "      <td>Netherlands</td>\n",
       "      <td>NED</td>\n",
       "      <td>1992 Winter</td>\n",
       "      <td>1992</td>\n",
       "      <td>Albertville</td>\n",
       "      <td>Speed Skating</td>\n",
       "      <td>Speed Skating Women's 500 metres</td>\n",
       "      <td>0</td>\n",
       "      <td>0</td>\n",
       "      <td>0</td>\n",
       "    </tr>\n",
       "    <tr>\n",
       "      <th>...</th>\n",
       "      <td>...</td>\n",
       "      <td>...</td>\n",
       "      <td>...</td>\n",
       "      <td>...</td>\n",
       "      <td>...</td>\n",
       "      <td>...</td>\n",
       "      <td>...</td>\n",
       "      <td>...</td>\n",
       "      <td>...</td>\n",
       "      <td>...</td>\n",
       "      <td>...</td>\n",
       "      <td>...</td>\n",
       "      <td>...</td>\n",
       "      <td>...</td>\n",
       "      <td>...</td>\n",
       "    </tr>\n",
       "    <tr>\n",
       "      <th>271111</th>\n",
       "      <td>135569</td>\n",
       "      <td>Andrzej ya</td>\n",
       "      <td>29.0</td>\n",
       "      <td>179.0</td>\n",
       "      <td>89.0</td>\n",
       "      <td>Poland-1</td>\n",
       "      <td>POL</td>\n",
       "      <td>1976 Winter</td>\n",
       "      <td>1976</td>\n",
       "      <td>Innsbruck</td>\n",
       "      <td>Luge</td>\n",
       "      <td>Luge Mixed (Men)'s Doubles</td>\n",
       "      <td>1</td>\n",
       "      <td>0</td>\n",
       "      <td>0</td>\n",
       "    </tr>\n",
       "    <tr>\n",
       "      <th>271112</th>\n",
       "      <td>135570</td>\n",
       "      <td>Piotr ya</td>\n",
       "      <td>27.0</td>\n",
       "      <td>176.0</td>\n",
       "      <td>59.0</td>\n",
       "      <td>Poland</td>\n",
       "      <td>POL</td>\n",
       "      <td>2014 Winter</td>\n",
       "      <td>2014</td>\n",
       "      <td>Sochi</td>\n",
       "      <td>Ski Jumping</td>\n",
       "      <td>Ski Jumping Men's Large Hill, Individual</td>\n",
       "      <td>1</td>\n",
       "      <td>0</td>\n",
       "      <td>0</td>\n",
       "    </tr>\n",
       "    <tr>\n",
       "      <th>271113</th>\n",
       "      <td>135570</td>\n",
       "      <td>Piotr ya</td>\n",
       "      <td>27.0</td>\n",
       "      <td>176.0</td>\n",
       "      <td>59.0</td>\n",
       "      <td>Poland</td>\n",
       "      <td>POL</td>\n",
       "      <td>2014 Winter</td>\n",
       "      <td>2014</td>\n",
       "      <td>Sochi</td>\n",
       "      <td>Ski Jumping</td>\n",
       "      <td>Ski Jumping Men's Large Hill, Team</td>\n",
       "      <td>1</td>\n",
       "      <td>0</td>\n",
       "      <td>0</td>\n",
       "    </tr>\n",
       "    <tr>\n",
       "      <th>271114</th>\n",
       "      <td>135571</td>\n",
       "      <td>Tomasz Ireneusz ya</td>\n",
       "      <td>30.0</td>\n",
       "      <td>185.0</td>\n",
       "      <td>96.0</td>\n",
       "      <td>Poland</td>\n",
       "      <td>POL</td>\n",
       "      <td>1998 Winter</td>\n",
       "      <td>1998</td>\n",
       "      <td>Nagano</td>\n",
       "      <td>Bobsleigh</td>\n",
       "      <td>Bobsleigh Men's Four</td>\n",
       "      <td>1</td>\n",
       "      <td>0</td>\n",
       "      <td>0</td>\n",
       "    </tr>\n",
       "    <tr>\n",
       "      <th>271115</th>\n",
       "      <td>135571</td>\n",
       "      <td>Tomasz Ireneusz ya</td>\n",
       "      <td>34.0</td>\n",
       "      <td>185.0</td>\n",
       "      <td>96.0</td>\n",
       "      <td>Poland</td>\n",
       "      <td>POL</td>\n",
       "      <td>2002 Winter</td>\n",
       "      <td>2002</td>\n",
       "      <td>Salt Lake City</td>\n",
       "      <td>Bobsleigh</td>\n",
       "      <td>Bobsleigh Men's Four</td>\n",
       "      <td>1</td>\n",
       "      <td>0</td>\n",
       "      <td>0</td>\n",
       "    </tr>\n",
       "  </tbody>\n",
       "</table>\n",
       "<p>206165 rows × 15 columns</p>\n",
       "</div>"
      ],
      "text/plain": [
       "            ID                      Name   Age  Height  Weight         Team  \\\n",
       "0            1                 A Dijiang  24.0   180.0    80.0        China   \n",
       "1            2                  A Lamusi  23.0   170.0    60.0        China   \n",
       "4            5  Christine Jacoba Aaftink  21.0   185.0    82.0  Netherlands   \n",
       "5            5  Christine Jacoba Aaftink  21.0   185.0    82.0  Netherlands   \n",
       "6            5  Christine Jacoba Aaftink  25.0   185.0    82.0  Netherlands   \n",
       "...        ...                       ...   ...     ...     ...          ...   \n",
       "271111  135569                Andrzej ya  29.0   179.0    89.0     Poland-1   \n",
       "271112  135570                  Piotr ya  27.0   176.0    59.0       Poland   \n",
       "271113  135570                  Piotr ya  27.0   176.0    59.0       Poland   \n",
       "271114  135571        Tomasz Ireneusz ya  30.0   185.0    96.0       Poland   \n",
       "271115  135571        Tomasz Ireneusz ya  34.0   185.0    96.0       Poland   \n",
       "\n",
       "        NOC        Games  Year            City          Sport  \\\n",
       "0       CHN  1992 Summer  1992       Barcelona     Basketball   \n",
       "1       CHN  2012 Summer  2012          London           Judo   \n",
       "4       NED  1988 Winter  1988         Calgary  Speed Skating   \n",
       "5       NED  1988 Winter  1988         Calgary  Speed Skating   \n",
       "6       NED  1992 Winter  1992     Albertville  Speed Skating   \n",
       "...     ...          ...   ...             ...            ...   \n",
       "271111  POL  1976 Winter  1976       Innsbruck           Luge   \n",
       "271112  POL  2014 Winter  2014           Sochi    Ski Jumping   \n",
       "271113  POL  2014 Winter  2014           Sochi    Ski Jumping   \n",
       "271114  POL  1998 Winter  1998          Nagano      Bobsleigh   \n",
       "271115  POL  2002 Winter  2002  Salt Lake City      Bobsleigh   \n",
       "\n",
       "                                           Event  Sex  Season  Win  \n",
       "0                    Basketball Men's Basketball    1       1    0  \n",
       "1                   Judo Men's Extra-Lightweight    1       1    0  \n",
       "4               Speed Skating Women's 500 metres    0       0    0  \n",
       "5             Speed Skating Women's 1,000 metres    0       0    0  \n",
       "6               Speed Skating Women's 500 metres    0       0    0  \n",
       "...                                          ...  ...     ...  ...  \n",
       "271111                Luge Mixed (Men)'s Doubles    1       0    0  \n",
       "271112  Ski Jumping Men's Large Hill, Individual    1       0    0  \n",
       "271113        Ski Jumping Men's Large Hill, Team    1       0    0  \n",
       "271114                      Bobsleigh Men's Four    1       0    0  \n",
       "271115                      Bobsleigh Men's Four    1       0    0  \n",
       "\n",
       "[206165 rows x 15 columns]"
      ]
     },
     "execution_count": 6,
     "metadata": {},
     "output_type": "execute_result"
    }
   ],
   "source": [
    "#drop row where age is not there\n",
    "\n",
    "sport.replace(np.nan, float('nan'), inplace=True)\n",
    "\n",
    "sport.dropna(subset = ['Height','Weight','Age'],inplace=True) \n",
    "\n",
    "sport"
   ]
  },
  {
   "cell_type": "markdown",
   "id": "aea01cdd-ee0b-4aaa-941d-17918f309f25",
   "metadata": {},
   "source": [
    "##### As you can see after the cleaning the dataset is decreased from 271116 observations to 206165"
   ]
  },
  {
   "cell_type": "markdown",
   "id": "29793d7c-d2ec-4f61-b22a-078c8802024c",
   "metadata": {},
   "source": [
    "#### 4. Final Cleaning: let's drop Games,Event and Team. I assume that NOC(National Olympic Commitee) = Team\n",
    "\n",
    "##### further cleaning and dataframes will be made in SQL"
   ]
  },
  {
   "cell_type": "code",
   "execution_count": 7,
   "id": "aa991587-a989-4129-92e8-0f7c5d3b63d3",
   "metadata": {},
   "outputs": [
    {
     "data": {
      "text/html": [
       "<div>\n",
       "<style scoped>\n",
       "    .dataframe tbody tr th:only-of-type {\n",
       "        vertical-align: middle;\n",
       "    }\n",
       "\n",
       "    .dataframe tbody tr th {\n",
       "        vertical-align: top;\n",
       "    }\n",
       "\n",
       "    .dataframe thead th {\n",
       "        text-align: right;\n",
       "    }\n",
       "</style>\n",
       "<table border=\"1\" class=\"dataframe\">\n",
       "  <thead>\n",
       "    <tr style=\"text-align: right;\">\n",
       "      <th></th>\n",
       "      <th>ID</th>\n",
       "      <th>Name</th>\n",
       "      <th>Age</th>\n",
       "      <th>Height</th>\n",
       "      <th>Weight</th>\n",
       "      <th>NOC</th>\n",
       "      <th>Year</th>\n",
       "      <th>City</th>\n",
       "      <th>Sport</th>\n",
       "      <th>Sex</th>\n",
       "      <th>Season</th>\n",
       "      <th>Win</th>\n",
       "    </tr>\n",
       "  </thead>\n",
       "  <tbody>\n",
       "    <tr>\n",
       "      <th>0</th>\n",
       "      <td>1</td>\n",
       "      <td>A Dijiang</td>\n",
       "      <td>24.0</td>\n",
       "      <td>180.0</td>\n",
       "      <td>80.0</td>\n",
       "      <td>CHN</td>\n",
       "      <td>1992</td>\n",
       "      <td>Barcelona</td>\n",
       "      <td>Basketball</td>\n",
       "      <td>1</td>\n",
       "      <td>1</td>\n",
       "      <td>0</td>\n",
       "    </tr>\n",
       "    <tr>\n",
       "      <th>1</th>\n",
       "      <td>2</td>\n",
       "      <td>A Lamusi</td>\n",
       "      <td>23.0</td>\n",
       "      <td>170.0</td>\n",
       "      <td>60.0</td>\n",
       "      <td>CHN</td>\n",
       "      <td>2012</td>\n",
       "      <td>London</td>\n",
       "      <td>Judo</td>\n",
       "      <td>1</td>\n",
       "      <td>1</td>\n",
       "      <td>0</td>\n",
       "    </tr>\n",
       "    <tr>\n",
       "      <th>4</th>\n",
       "      <td>5</td>\n",
       "      <td>Christine Jacoba Aaftink</td>\n",
       "      <td>21.0</td>\n",
       "      <td>185.0</td>\n",
       "      <td>82.0</td>\n",
       "      <td>NED</td>\n",
       "      <td>1988</td>\n",
       "      <td>Calgary</td>\n",
       "      <td>Speed Skating</td>\n",
       "      <td>0</td>\n",
       "      <td>0</td>\n",
       "      <td>0</td>\n",
       "    </tr>\n",
       "    <tr>\n",
       "      <th>5</th>\n",
       "      <td>5</td>\n",
       "      <td>Christine Jacoba Aaftink</td>\n",
       "      <td>21.0</td>\n",
       "      <td>185.0</td>\n",
       "      <td>82.0</td>\n",
       "      <td>NED</td>\n",
       "      <td>1988</td>\n",
       "      <td>Calgary</td>\n",
       "      <td>Speed Skating</td>\n",
       "      <td>0</td>\n",
       "      <td>0</td>\n",
       "      <td>0</td>\n",
       "    </tr>\n",
       "    <tr>\n",
       "      <th>6</th>\n",
       "      <td>5</td>\n",
       "      <td>Christine Jacoba Aaftink</td>\n",
       "      <td>25.0</td>\n",
       "      <td>185.0</td>\n",
       "      <td>82.0</td>\n",
       "      <td>NED</td>\n",
       "      <td>1992</td>\n",
       "      <td>Albertville</td>\n",
       "      <td>Speed Skating</td>\n",
       "      <td>0</td>\n",
       "      <td>0</td>\n",
       "      <td>0</td>\n",
       "    </tr>\n",
       "  </tbody>\n",
       "</table>\n",
       "</div>"
      ],
      "text/plain": [
       "   ID                      Name   Age  Height  Weight  NOC  Year         City  \\\n",
       "0   1                 A Dijiang  24.0   180.0    80.0  CHN  1992    Barcelona   \n",
       "1   2                  A Lamusi  23.0   170.0    60.0  CHN  2012       London   \n",
       "4   5  Christine Jacoba Aaftink  21.0   185.0    82.0  NED  1988      Calgary   \n",
       "5   5  Christine Jacoba Aaftink  21.0   185.0    82.0  NED  1988      Calgary   \n",
       "6   5  Christine Jacoba Aaftink  25.0   185.0    82.0  NED  1992  Albertville   \n",
       "\n",
       "           Sport  Sex  Season  Win  \n",
       "0     Basketball    1       1    0  \n",
       "1           Judo    1       1    0  \n",
       "4  Speed Skating    0       0    0  \n",
       "5  Speed Skating    0       0    0  \n",
       "6  Speed Skating    0       0    0  "
      ]
     },
     "execution_count": 7,
     "metadata": {},
     "output_type": "execute_result"
    }
   ],
   "source": [
    "sport.drop(['Games','Event','Team'],axis=1,inplace=True)\n",
    "\n",
    "sport.head()"
   ]
  },
  {
   "cell_type": "markdown",
   "id": "5b6d8b4a-0c2f-44f5-b453-285fe39a3795",
   "metadata": {},
   "source": [
    "#### 5. Let's see some statistics"
   ]
  },
  {
   "cell_type": "markdown",
   "id": "61a1d9b7-146c-475b-a040-1e342e6ffe2a",
   "metadata": {},
   "source": [
    "##### overall differences"
   ]
  },
  {
   "cell_type": "code",
   "execution_count": 8,
   "id": "e696e87a-8300-463b-86ac-2a50c82bfb72",
   "metadata": {},
   "outputs": [
    {
     "data": {
      "text/html": [
       "<div>\n",
       "<style scoped>\n",
       "    .dataframe tbody tr th:only-of-type {\n",
       "        vertical-align: middle;\n",
       "    }\n",
       "\n",
       "    .dataframe tbody tr th {\n",
       "        vertical-align: top;\n",
       "    }\n",
       "\n",
       "    .dataframe thead th {\n",
       "        text-align: right;\n",
       "    }\n",
       "</style>\n",
       "<table border=\"1\" class=\"dataframe\">\n",
       "  <thead>\n",
       "    <tr style=\"text-align: right;\">\n",
       "      <th></th>\n",
       "      <th>Age</th>\n",
       "      <th>Height</th>\n",
       "      <th>Weight</th>\n",
       "      <th>Sex</th>\n",
       "      <th>Win</th>\n",
       "    </tr>\n",
       "  </thead>\n",
       "  <tbody>\n",
       "    <tr>\n",
       "      <th>count</th>\n",
       "      <td>206165.000000</td>\n",
       "      <td>206165.000000</td>\n",
       "      <td>206165.000000</td>\n",
       "      <td>206165.000000</td>\n",
       "      <td>206165.000000</td>\n",
       "    </tr>\n",
       "    <tr>\n",
       "      <th>mean</th>\n",
       "      <td>25.055509</td>\n",
       "      <td>175.371950</td>\n",
       "      <td>70.688337</td>\n",
       "      <td>0.676419</td>\n",
       "      <td>0.146392</td>\n",
       "    </tr>\n",
       "    <tr>\n",
       "      <th>std</th>\n",
       "      <td>5.483096</td>\n",
       "      <td>10.546088</td>\n",
       "      <td>14.340338</td>\n",
       "      <td>0.467843</td>\n",
       "      <td>0.353500</td>\n",
       "    </tr>\n",
       "    <tr>\n",
       "      <th>min</th>\n",
       "      <td>11.000000</td>\n",
       "      <td>127.000000</td>\n",
       "      <td>25.000000</td>\n",
       "      <td>0.000000</td>\n",
       "      <td>0.000000</td>\n",
       "    </tr>\n",
       "    <tr>\n",
       "      <th>25%</th>\n",
       "      <td>21.000000</td>\n",
       "      <td>168.000000</td>\n",
       "      <td>60.000000</td>\n",
       "      <td>0.000000</td>\n",
       "      <td>0.000000</td>\n",
       "    </tr>\n",
       "    <tr>\n",
       "      <th>50%</th>\n",
       "      <td>24.000000</td>\n",
       "      <td>175.000000</td>\n",
       "      <td>70.000000</td>\n",
       "      <td>1.000000</td>\n",
       "      <td>0.000000</td>\n",
       "    </tr>\n",
       "    <tr>\n",
       "      <th>75%</th>\n",
       "      <td>28.000000</td>\n",
       "      <td>183.000000</td>\n",
       "      <td>79.000000</td>\n",
       "      <td>1.000000</td>\n",
       "      <td>0.000000</td>\n",
       "    </tr>\n",
       "    <tr>\n",
       "      <th>max</th>\n",
       "      <td>71.000000</td>\n",
       "      <td>226.000000</td>\n",
       "      <td>214.000000</td>\n",
       "      <td>1.000000</td>\n",
       "      <td>1.000000</td>\n",
       "    </tr>\n",
       "  </tbody>\n",
       "</table>\n",
       "</div>"
      ],
      "text/plain": [
       "                 Age         Height         Weight            Sex  \\\n",
       "count  206165.000000  206165.000000  206165.000000  206165.000000   \n",
       "mean       25.055509     175.371950      70.688337       0.676419   \n",
       "std         5.483096      10.546088      14.340338       0.467843   \n",
       "min        11.000000     127.000000      25.000000       0.000000   \n",
       "25%        21.000000     168.000000      60.000000       0.000000   \n",
       "50%        24.000000     175.000000      70.000000       1.000000   \n",
       "75%        28.000000     183.000000      79.000000       1.000000   \n",
       "max        71.000000     226.000000     214.000000       1.000000   \n",
       "\n",
       "                 Win  \n",
       "count  206165.000000  \n",
       "mean        0.146392  \n",
       "std         0.353500  \n",
       "min         0.000000  \n",
       "25%         0.000000  \n",
       "50%         0.000000  \n",
       "75%         0.000000  \n",
       "max         1.000000  "
      ]
     },
     "execution_count": 8,
     "metadata": {},
     "output_type": "execute_result"
    }
   ],
   "source": [
    "sport[['Age','Height','Weight','Sex','Win']].describe()"
   ]
  },
  {
   "cell_type": "markdown",
   "id": "d6f01fe5-a636-4cc9-a5b6-04b60c59c41a",
   "metadata": {},
   "source": [
    "#### As we can see our dataset has mostly men (70%) and the average age is around 25 years old, max age is around 71 years old this may suggest that further cleaning is needed, for example removing atheletes above a certain age threshold (eg.50) to avoid bias estimate and because up to a certain age you cannot compete with younger athletes. an age count of the athletes is needed"
   ]
  },
  {
   "cell_type": "markdown",
   "id": "6747a605-0844-4600-a464-eaf5b3afc634",
   "metadata": {},
   "source": [
    "##### Male and Female differences"
   ]
  },
  {
   "cell_type": "code",
   "execution_count": 9,
   "id": "70fb69f7-cce6-4ad3-86c0-2768a6999ff4",
   "metadata": {},
   "outputs": [
    {
     "data": {
      "text/html": [
       "<div>\n",
       "<style scoped>\n",
       "    .dataframe tbody tr th:only-of-type {\n",
       "        vertical-align: middle;\n",
       "    }\n",
       "\n",
       "    .dataframe tbody tr th {\n",
       "        vertical-align: top;\n",
       "    }\n",
       "\n",
       "    .dataframe thead th {\n",
       "        text-align: right;\n",
       "    }\n",
       "</style>\n",
       "<table border=\"1\" class=\"dataframe\">\n",
       "  <thead>\n",
       "    <tr style=\"text-align: right;\">\n",
       "      <th></th>\n",
       "      <th>Age</th>\n",
       "      <th>Height</th>\n",
       "      <th>Weight</th>\n",
       "      <th>Sex</th>\n",
       "      <th>Win</th>\n",
       "    </tr>\n",
       "  </thead>\n",
       "  <tbody>\n",
       "    <tr>\n",
       "      <th>count</th>\n",
       "      <td>139454.000000</td>\n",
       "      <td>139454.000000</td>\n",
       "      <td>139454.000000</td>\n",
       "      <td>139454.0</td>\n",
       "      <td>139454.000000</td>\n",
       "    </tr>\n",
       "    <tr>\n",
       "      <th>mean</th>\n",
       "      <td>25.665933</td>\n",
       "      <td>178.964834</td>\n",
       "      <td>75.790547</td>\n",
       "      <td>1.0</td>\n",
       "      <td>0.142205</td>\n",
       "    </tr>\n",
       "    <tr>\n",
       "      <th>std</th>\n",
       "      <td>5.346235</td>\n",
       "      <td>9.367787</td>\n",
       "      <td>13.180281</td>\n",
       "      <td>0.0</td>\n",
       "      <td>0.349261</td>\n",
       "    </tr>\n",
       "    <tr>\n",
       "      <th>min</th>\n",
       "      <td>12.000000</td>\n",
       "      <td>127.000000</td>\n",
       "      <td>28.000000</td>\n",
       "      <td>1.0</td>\n",
       "      <td>0.000000</td>\n",
       "    </tr>\n",
       "    <tr>\n",
       "      <th>25%</th>\n",
       "      <td>22.000000</td>\n",
       "      <td>173.000000</td>\n",
       "      <td>67.000000</td>\n",
       "      <td>1.0</td>\n",
       "      <td>0.000000</td>\n",
       "    </tr>\n",
       "    <tr>\n",
       "      <th>50%</th>\n",
       "      <td>25.000000</td>\n",
       "      <td>179.000000</td>\n",
       "      <td>74.000000</td>\n",
       "      <td>1.0</td>\n",
       "      <td>0.000000</td>\n",
       "    </tr>\n",
       "    <tr>\n",
       "      <th>75%</th>\n",
       "      <td>28.000000</td>\n",
       "      <td>185.000000</td>\n",
       "      <td>83.000000</td>\n",
       "      <td>1.0</td>\n",
       "      <td>0.000000</td>\n",
       "    </tr>\n",
       "    <tr>\n",
       "      <th>max</th>\n",
       "      <td>71.000000</td>\n",
       "      <td>226.000000</td>\n",
       "      <td>214.000000</td>\n",
       "      <td>1.0</td>\n",
       "      <td>1.000000</td>\n",
       "    </tr>\n",
       "  </tbody>\n",
       "</table>\n",
       "</div>"
      ],
      "text/plain": [
       "                 Age         Height         Weight       Sex            Win\n",
       "count  139454.000000  139454.000000  139454.000000  139454.0  139454.000000\n",
       "mean       25.665933     178.964834      75.790547       1.0       0.142205\n",
       "std         5.346235       9.367787      13.180281       0.0       0.349261\n",
       "min        12.000000     127.000000      28.000000       1.0       0.000000\n",
       "25%        22.000000     173.000000      67.000000       1.0       0.000000\n",
       "50%        25.000000     179.000000      74.000000       1.0       0.000000\n",
       "75%        28.000000     185.000000      83.000000       1.0       0.000000\n",
       "max        71.000000     226.000000     214.000000       1.0       1.000000"
      ]
     },
     "execution_count": 9,
     "metadata": {},
     "output_type": "execute_result"
    }
   ],
   "source": [
    "sport_m=pysqldf('''select * from sport where Sex=1''')\n",
    "\n",
    "sport_f=pysqldf('''select * from sport where Sex=0''')\n",
    "\n",
    "sport_m[['Age','Height','Weight','Sex','Win']].describe()"
   ]
  },
  {
   "cell_type": "code",
   "execution_count": 10,
   "id": "dfa9723b-0d8c-4bb2-9c70-f95917ff286c",
   "metadata": {},
   "outputs": [
    {
     "data": {
      "text/html": [
       "<div>\n",
       "<style scoped>\n",
       "    .dataframe tbody tr th:only-of-type {\n",
       "        vertical-align: middle;\n",
       "    }\n",
       "\n",
       "    .dataframe tbody tr th {\n",
       "        vertical-align: top;\n",
       "    }\n",
       "\n",
       "    .dataframe thead th {\n",
       "        text-align: right;\n",
       "    }\n",
       "</style>\n",
       "<table border=\"1\" class=\"dataframe\">\n",
       "  <thead>\n",
       "    <tr style=\"text-align: right;\">\n",
       "      <th></th>\n",
       "      <th>Age</th>\n",
       "      <th>Height</th>\n",
       "      <th>Weight</th>\n",
       "      <th>Sex</th>\n",
       "      <th>Win</th>\n",
       "    </tr>\n",
       "  </thead>\n",
       "  <tbody>\n",
       "    <tr>\n",
       "      <th>count</th>\n",
       "      <td>66711.000000</td>\n",
       "      <td>66711.000000</td>\n",
       "      <td>66711.000000</td>\n",
       "      <td>66711.0</td>\n",
       "      <td>66711.000000</td>\n",
       "    </tr>\n",
       "    <tr>\n",
       "      <th>mean</th>\n",
       "      <td>23.779467</td>\n",
       "      <td>167.861312</td>\n",
       "      <td>60.022575</td>\n",
       "      <td>0.0</td>\n",
       "      <td>0.155147</td>\n",
       "    </tr>\n",
       "    <tr>\n",
       "      <th>std</th>\n",
       "      <td>5.545791</td>\n",
       "      <td>8.767951</td>\n",
       "      <td>10.208164</td>\n",
       "      <td>0.0</td>\n",
       "      <td>0.362047</td>\n",
       "    </tr>\n",
       "    <tr>\n",
       "      <th>min</th>\n",
       "      <td>11.000000</td>\n",
       "      <td>127.000000</td>\n",
       "      <td>25.000000</td>\n",
       "      <td>0.0</td>\n",
       "      <td>0.000000</td>\n",
       "    </tr>\n",
       "    <tr>\n",
       "      <th>25%</th>\n",
       "      <td>20.000000</td>\n",
       "      <td>162.000000</td>\n",
       "      <td>54.000000</td>\n",
       "      <td>0.0</td>\n",
       "      <td>0.000000</td>\n",
       "    </tr>\n",
       "    <tr>\n",
       "      <th>50%</th>\n",
       "      <td>23.000000</td>\n",
       "      <td>168.000000</td>\n",
       "      <td>59.000000</td>\n",
       "      <td>0.0</td>\n",
       "      <td>0.000000</td>\n",
       "    </tr>\n",
       "    <tr>\n",
       "      <th>75%</th>\n",
       "      <td>27.000000</td>\n",
       "      <td>173.000000</td>\n",
       "      <td>65.000000</td>\n",
       "      <td>0.0</td>\n",
       "      <td>0.000000</td>\n",
       "    </tr>\n",
       "    <tr>\n",
       "      <th>max</th>\n",
       "      <td>69.000000</td>\n",
       "      <td>213.000000</td>\n",
       "      <td>167.000000</td>\n",
       "      <td>0.0</td>\n",
       "      <td>1.000000</td>\n",
       "    </tr>\n",
       "  </tbody>\n",
       "</table>\n",
       "</div>"
      ],
      "text/plain": [
       "                Age        Height        Weight      Sex           Win\n",
       "count  66711.000000  66711.000000  66711.000000  66711.0  66711.000000\n",
       "mean      23.779467    167.861312     60.022575      0.0      0.155147\n",
       "std        5.545791      8.767951     10.208164      0.0      0.362047\n",
       "min       11.000000    127.000000     25.000000      0.0      0.000000\n",
       "25%       20.000000    162.000000     54.000000      0.0      0.000000\n",
       "50%       23.000000    168.000000     59.000000      0.0      0.000000\n",
       "75%       27.000000    173.000000     65.000000      0.0      0.000000\n",
       "max       69.000000    213.000000    167.000000      0.0      1.000000"
      ]
     },
     "execution_count": 10,
     "metadata": {},
     "output_type": "execute_result"
    }
   ],
   "source": [
    "sport_f[['Age','Height','Weight','Sex','Win']].describe()"
   ]
  },
  {
   "cell_type": "markdown",
   "id": "33c0fec1-3dd0-43a3-be19-989077eec624",
   "metadata": {},
   "source": [
    "#### Women Atheletes seem to be younger than men. In both groups max age is way above 50 hence we should take care of these outliers"
   ]
  },
  {
   "cell_type": "markdown",
   "id": "d6b8883b-274e-47aa-9b53-472a39e44688",
   "metadata": {},
   "source": [
    "### 6. Adding an arbitrary threshold or Changing Sample?\n",
    "- some atheletes in 1920 competed at the age of 72(google research), these are clearly outlier that bias the estimate.\n",
    "- The way people compete change over time, therefore to have interesting insights we should reduce the sample, taking the atheletes who competed at games after 1950, without imposing an arbirtrary threshold on age directly\n",
    "- Hence I want to see the sample after the winter olympics of Moscow in 1980\n",
    "- Note that the dataset is parented with local news to they do not take into consideration solely the olympic games, therefore we should take this into consideration.\n",
    "- I will take into consideration the follwoing Olympics: Rio de Janeiro, London, Beijing,Athina,Sydney,Atlanta,Barcelona,Seoul,Los Angeles,Moscow,Sochi,Vancouver,Salt Lake City,Nagano,Lillehammer,Albertville,Calgary,Sarajevo,Lake Placid"
   ]
  },
  {
   "cell_type": "code",
   "execution_count": 11,
   "id": "d8763ba1-4a7b-4858-b3b9-c7cb3b9c88e8",
   "metadata": {},
   "outputs": [
    {
     "data": {
      "text/html": [
       "<div>\n",
       "<style scoped>\n",
       "    .dataframe tbody tr th:only-of-type {\n",
       "        vertical-align: middle;\n",
       "    }\n",
       "\n",
       "    .dataframe tbody tr th {\n",
       "        vertical-align: top;\n",
       "    }\n",
       "\n",
       "    .dataframe thead th {\n",
       "        text-align: right;\n",
       "    }\n",
       "</style>\n",
       "<table border=\"1\" class=\"dataframe\">\n",
       "  <thead>\n",
       "    <tr style=\"text-align: right;\">\n",
       "      <th></th>\n",
       "      <th>Age</th>\n",
       "      <th>Height</th>\n",
       "      <th>Weight</th>\n",
       "      <th>Sex</th>\n",
       "      <th>Win</th>\n",
       "    </tr>\n",
       "  </thead>\n",
       "  <tbody>\n",
       "    <tr>\n",
       "      <th>count</th>\n",
       "      <td>136875.000000</td>\n",
       "      <td>136875.000000</td>\n",
       "      <td>136875.000000</td>\n",
       "      <td>136875.000000</td>\n",
       "      <td>136875.000000</td>\n",
       "    </tr>\n",
       "    <tr>\n",
       "      <th>mean</th>\n",
       "      <td>25.285728</td>\n",
       "      <td>175.841571</td>\n",
       "      <td>70.983039</td>\n",
       "      <td>0.622466</td>\n",
       "      <td>0.142729</td>\n",
       "    </tr>\n",
       "    <tr>\n",
       "      <th>std</th>\n",
       "      <td>5.387866</td>\n",
       "      <td>10.893256</td>\n",
       "      <td>14.992473</td>\n",
       "      <td>0.484772</td>\n",
       "      <td>0.349797</td>\n",
       "    </tr>\n",
       "    <tr>\n",
       "      <th>min</th>\n",
       "      <td>12.000000</td>\n",
       "      <td>127.000000</td>\n",
       "      <td>28.000000</td>\n",
       "      <td>0.000000</td>\n",
       "      <td>0.000000</td>\n",
       "    </tr>\n",
       "    <tr>\n",
       "      <th>25%</th>\n",
       "      <td>22.000000</td>\n",
       "      <td>168.000000</td>\n",
       "      <td>60.000000</td>\n",
       "      <td>0.000000</td>\n",
       "      <td>0.000000</td>\n",
       "    </tr>\n",
       "    <tr>\n",
       "      <th>50%</th>\n",
       "      <td>25.000000</td>\n",
       "      <td>176.000000</td>\n",
       "      <td>70.000000</td>\n",
       "      <td>1.000000</td>\n",
       "      <td>0.000000</td>\n",
       "    </tr>\n",
       "    <tr>\n",
       "      <th>75%</th>\n",
       "      <td>28.000000</td>\n",
       "      <td>183.000000</td>\n",
       "      <td>80.000000</td>\n",
       "      <td>1.000000</td>\n",
       "      <td>0.000000</td>\n",
       "    </tr>\n",
       "    <tr>\n",
       "      <th>max</th>\n",
       "      <td>71.000000</td>\n",
       "      <td>226.000000</td>\n",
       "      <td>214.000000</td>\n",
       "      <td>1.000000</td>\n",
       "      <td>1.000000</td>\n",
       "    </tr>\n",
       "  </tbody>\n",
       "</table>\n",
       "</div>"
      ],
      "text/plain": [
       "                 Age         Height         Weight            Sex  \\\n",
       "count  136875.000000  136875.000000  136875.000000  136875.000000   \n",
       "mean       25.285728     175.841571      70.983039       0.622466   \n",
       "std         5.387866      10.893256      14.992473       0.484772   \n",
       "min        12.000000     127.000000      28.000000       0.000000   \n",
       "25%        22.000000     168.000000      60.000000       0.000000   \n",
       "50%        25.000000     176.000000      70.000000       1.000000   \n",
       "75%        28.000000     183.000000      80.000000       1.000000   \n",
       "max        71.000000     226.000000     214.000000       1.000000   \n",
       "\n",
       "                 Win  \n",
       "count  136875.000000  \n",
       "mean        0.142729  \n",
       "std         0.349797  \n",
       "min         0.000000  \n",
       "25%         0.000000  \n",
       "50%         0.000000  \n",
       "75%         0.000000  \n",
       "max         1.000000  "
      ]
     },
     "execution_count": 11,
     "metadata": {},
     "output_type": "execute_result"
    }
   ],
   "source": [
    "sport_80=pysqldf('''select * from sport where Year>=1980 \n",
    "and City in ('Rio de Janeiro', 'London', 'Beijing','Athina','Sydney','Atlanta','Barcelona','Seoul','Los Angeles','Moscow','Sochi','Vancouver','Salt Lake City','Nagano','Lillehammer','Albertville','Calgary','Sarajevo','Lake Placid')''')\n",
    "\n",
    "sport_m=pysqldf('''select * from sport_80 where Sex=1 ''')\n",
    "\n",
    "sport_f=pysqldf('''select * from sport_80 where Sex=0 ''')\n",
    "\n",
    "sport_80[['Age','Height','Weight','Sex','Win']].describe()"
   ]
  },
  {
   "cell_type": "code",
   "execution_count": 12,
   "id": "ff19eaaa-dafa-4bc1-b33a-c2e3749f3487",
   "metadata": {},
   "outputs": [
    {
     "data": {
      "text/html": [
       "<div>\n",
       "<style scoped>\n",
       "    .dataframe tbody tr th:only-of-type {\n",
       "        vertical-align: middle;\n",
       "    }\n",
       "\n",
       "    .dataframe tbody tr th {\n",
       "        vertical-align: top;\n",
       "    }\n",
       "\n",
       "    .dataframe thead th {\n",
       "        text-align: right;\n",
       "    }\n",
       "</style>\n",
       "<table border=\"1\" class=\"dataframe\">\n",
       "  <thead>\n",
       "    <tr style=\"text-align: right;\">\n",
       "      <th></th>\n",
       "      <th>Age</th>\n",
       "      <th>Height</th>\n",
       "      <th>Weight</th>\n",
       "      <th>Sex</th>\n",
       "      <th>Win</th>\n",
       "    </tr>\n",
       "  </thead>\n",
       "  <tbody>\n",
       "    <tr>\n",
       "      <th>count</th>\n",
       "      <td>85200.000000</td>\n",
       "      <td>85200.000000</td>\n",
       "      <td>85200.000000</td>\n",
       "      <td>85200.0</td>\n",
       "      <td>85200.000000</td>\n",
       "    </tr>\n",
       "    <tr>\n",
       "      <th>mean</th>\n",
       "      <td>25.824284</td>\n",
       "      <td>180.262711</td>\n",
       "      <td>77.295998</td>\n",
       "      <td>1.0</td>\n",
       "      <td>0.134965</td>\n",
       "    </tr>\n",
       "    <tr>\n",
       "      <th>std</th>\n",
       "      <td>5.238486</td>\n",
       "      <td>9.511485</td>\n",
       "      <td>13.724913</td>\n",
       "      <td>0.0</td>\n",
       "      <td>0.341688</td>\n",
       "    </tr>\n",
       "    <tr>\n",
       "      <th>min</th>\n",
       "      <td>12.000000</td>\n",
       "      <td>127.000000</td>\n",
       "      <td>37.000000</td>\n",
       "      <td>1.0</td>\n",
       "      <td>0.000000</td>\n",
       "    </tr>\n",
       "    <tr>\n",
       "      <th>25%</th>\n",
       "      <td>22.000000</td>\n",
       "      <td>174.000000</td>\n",
       "      <td>68.000000</td>\n",
       "      <td>1.0</td>\n",
       "      <td>0.000000</td>\n",
       "    </tr>\n",
       "    <tr>\n",
       "      <th>50%</th>\n",
       "      <td>25.000000</td>\n",
       "      <td>180.000000</td>\n",
       "      <td>76.000000</td>\n",
       "      <td>1.0</td>\n",
       "      <td>0.000000</td>\n",
       "    </tr>\n",
       "    <tr>\n",
       "      <th>75%</th>\n",
       "      <td>28.000000</td>\n",
       "      <td>186.000000</td>\n",
       "      <td>85.000000</td>\n",
       "      <td>1.0</td>\n",
       "      <td>0.000000</td>\n",
       "    </tr>\n",
       "    <tr>\n",
       "      <th>max</th>\n",
       "      <td>71.000000</td>\n",
       "      <td>226.000000</td>\n",
       "      <td>214.000000</td>\n",
       "      <td>1.0</td>\n",
       "      <td>1.000000</td>\n",
       "    </tr>\n",
       "  </tbody>\n",
       "</table>\n",
       "</div>"
      ],
      "text/plain": [
       "                Age        Height        Weight      Sex           Win\n",
       "count  85200.000000  85200.000000  85200.000000  85200.0  85200.000000\n",
       "mean      25.824284    180.262711     77.295998      1.0      0.134965\n",
       "std        5.238486      9.511485     13.724913      0.0      0.341688\n",
       "min       12.000000    127.000000     37.000000      1.0      0.000000\n",
       "25%       22.000000    174.000000     68.000000      1.0      0.000000\n",
       "50%       25.000000    180.000000     76.000000      1.0      0.000000\n",
       "75%       28.000000    186.000000     85.000000      1.0      0.000000\n",
       "max       71.000000    226.000000    214.000000      1.0      1.000000"
      ]
     },
     "execution_count": 12,
     "metadata": {},
     "output_type": "execute_result"
    }
   ],
   "source": [
    "sport_m[['Age','Height','Weight','Sex','Win']].describe()"
   ]
  },
  {
   "cell_type": "code",
   "execution_count": 13,
   "id": "69a394d2-8149-4174-9934-e7f3ed43b845",
   "metadata": {},
   "outputs": [
    {
     "data": {
      "text/html": [
       "<div>\n",
       "<style scoped>\n",
       "    .dataframe tbody tr th:only-of-type {\n",
       "        vertical-align: middle;\n",
       "    }\n",
       "\n",
       "    .dataframe tbody tr th {\n",
       "        vertical-align: top;\n",
       "    }\n",
       "\n",
       "    .dataframe thead th {\n",
       "        text-align: right;\n",
       "    }\n",
       "</style>\n",
       "<table border=\"1\" class=\"dataframe\">\n",
       "  <thead>\n",
       "    <tr style=\"text-align: right;\">\n",
       "      <th></th>\n",
       "      <th>Age</th>\n",
       "      <th>Height</th>\n",
       "      <th>Weight</th>\n",
       "      <th>Sex</th>\n",
       "      <th>Win</th>\n",
       "    </tr>\n",
       "  </thead>\n",
       "  <tbody>\n",
       "    <tr>\n",
       "      <th>count</th>\n",
       "      <td>51675.000000</td>\n",
       "      <td>51675.000000</td>\n",
       "      <td>51675.000000</td>\n",
       "      <td>51675.0</td>\n",
       "      <td>51675.000000</td>\n",
       "    </tr>\n",
       "    <tr>\n",
       "      <th>mean</th>\n",
       "      <td>24.397775</td>\n",
       "      <td>168.552143</td>\n",
       "      <td>60.574446</td>\n",
       "      <td>0.0</td>\n",
       "      <td>0.155530</td>\n",
       "    </tr>\n",
       "    <tr>\n",
       "      <th>std</th>\n",
       "      <td>5.511821</td>\n",
       "      <td>8.932364</td>\n",
       "      <td>10.523527</td>\n",
       "      <td>0.0</td>\n",
       "      <td>0.362412</td>\n",
       "    </tr>\n",
       "    <tr>\n",
       "      <th>min</th>\n",
       "      <td>12.000000</td>\n",
       "      <td>132.000000</td>\n",
       "      <td>28.000000</td>\n",
       "      <td>0.0</td>\n",
       "      <td>0.000000</td>\n",
       "    </tr>\n",
       "    <tr>\n",
       "      <th>25%</th>\n",
       "      <td>21.000000</td>\n",
       "      <td>163.000000</td>\n",
       "      <td>54.000000</td>\n",
       "      <td>0.0</td>\n",
       "      <td>0.000000</td>\n",
       "    </tr>\n",
       "    <tr>\n",
       "      <th>50%</th>\n",
       "      <td>24.000000</td>\n",
       "      <td>168.000000</td>\n",
       "      <td>60.000000</td>\n",
       "      <td>0.0</td>\n",
       "      <td>0.000000</td>\n",
       "    </tr>\n",
       "    <tr>\n",
       "      <th>75%</th>\n",
       "      <td>28.000000</td>\n",
       "      <td>174.000000</td>\n",
       "      <td>66.000000</td>\n",
       "      <td>0.0</td>\n",
       "      <td>0.000000</td>\n",
       "    </tr>\n",
       "    <tr>\n",
       "      <th>max</th>\n",
       "      <td>63.000000</td>\n",
       "      <td>213.000000</td>\n",
       "      <td>167.000000</td>\n",
       "      <td>0.0</td>\n",
       "      <td>1.000000</td>\n",
       "    </tr>\n",
       "  </tbody>\n",
       "</table>\n",
       "</div>"
      ],
      "text/plain": [
       "                Age        Height        Weight      Sex           Win\n",
       "count  51675.000000  51675.000000  51675.000000  51675.0  51675.000000\n",
       "mean      24.397775    168.552143     60.574446      0.0      0.155530\n",
       "std        5.511821      8.932364     10.523527      0.0      0.362412\n",
       "min       12.000000    132.000000     28.000000      0.0      0.000000\n",
       "25%       21.000000    163.000000     54.000000      0.0      0.000000\n",
       "50%       24.000000    168.000000     60.000000      0.0      0.000000\n",
       "75%       28.000000    174.000000     66.000000      0.0      0.000000\n",
       "max       63.000000    213.000000    167.000000      0.0      1.000000"
      ]
     },
     "execution_count": 13,
     "metadata": {},
     "output_type": "execute_result"
    }
   ],
   "source": [
    "sport_f[['Age','Height','Weight','Sex','Win']].describe()"
   ]
  },
  {
   "cell_type": "markdown",
   "id": "9d091817-bfea-4115-8b16-611ac4409770",
   "metadata": {},
   "source": [
    "#### Mean Age seem to increase rather than decrease as i expected. Median Age tends to increase as well. the current sample goes from 1996 to 2016, and count for more than 80000 observations, so the dataset is still big."
   ]
  },
  {
   "cell_type": "markdown",
   "id": "cca7adb9-3747-4f3f-af49-b4ed6c8bd3a2",
   "metadata": {},
   "source": [
    "### 7. Let's visualize some data to understand better the distributions"
   ]
  },
  {
   "cell_type": "code",
   "execution_count": 14,
   "id": "845c6bd9-5170-4d92-b4b9-2cf3a94d4909",
   "metadata": {},
   "outputs": [
    {
     "data": {
      "text/html": [
       "<div>\n",
       "<style scoped>\n",
       "    .dataframe tbody tr th:only-of-type {\n",
       "        vertical-align: middle;\n",
       "    }\n",
       "\n",
       "    .dataframe tbody tr th {\n",
       "        vertical-align: top;\n",
       "    }\n",
       "\n",
       "    .dataframe thead th {\n",
       "        text-align: right;\n",
       "    }\n",
       "</style>\n",
       "<table border=\"1\" class=\"dataframe\">\n",
       "  <thead>\n",
       "    <tr style=\"text-align: right;\">\n",
       "      <th></th>\n",
       "      <th>Age</th>\n",
       "      <th>Age_Count</th>\n",
       "    </tr>\n",
       "  </thead>\n",
       "  <tbody>\n",
       "    <tr>\n",
       "      <th>0</th>\n",
       "      <td>12.0</td>\n",
       "      <td>5</td>\n",
       "    </tr>\n",
       "    <tr>\n",
       "      <th>1</th>\n",
       "      <td>13.0</td>\n",
       "      <td>50</td>\n",
       "    </tr>\n",
       "    <tr>\n",
       "      <th>2</th>\n",
       "      <td>14.0</td>\n",
       "      <td>260</td>\n",
       "    </tr>\n",
       "    <tr>\n",
       "      <th>3</th>\n",
       "      <td>15.0</td>\n",
       "      <td>1127</td>\n",
       "    </tr>\n",
       "    <tr>\n",
       "      <th>4</th>\n",
       "      <td>16.0</td>\n",
       "      <td>1865</td>\n",
       "    </tr>\n",
       "  </tbody>\n",
       "</table>\n",
       "</div>"
      ],
      "text/plain": [
       "    Age  Age_Count\n",
       "0  12.0          5\n",
       "1  13.0         50\n",
       "2  14.0        260\n",
       "3  15.0       1127\n",
       "4  16.0       1865"
      ]
     },
     "execution_count": 14,
     "metadata": {},
     "output_type": "execute_result"
    }
   ],
   "source": [
    "age_count=pysqldf('''select Age,Count(Age) as 'Age_Count' from sport_80 group by Age ''')\n",
    "age_count.head()"
   ]
  },
  {
   "cell_type": "code",
   "execution_count": 15,
   "id": "259db319-167e-4378-af3c-f4c215a83df0",
   "metadata": {},
   "outputs": [
    {
     "data": {
      "image/png": "[encoded data removed]",
      "text/plain": [
       "<Figure size 432x288 with 1 Axes>"
      ]
     },
     "metadata": {
      "needs_background": "light"
     },
     "output_type": "display_data"
    }
   ],
   "source": [
    "plt.plot(age_count['Age'],age_count['Age_Count'])\n",
    "\n",
    "plt.xlabel('Age') # add to x-label to the plot\n",
    "plt.ylabel('Number of Athlets') # add y-label to the plot\n",
    "plt.title('Age Distribution') # add title to the plot\n",
    "\n",
    "plt.show()"
   ]
  },
  {
   "cell_type": "code",
   "execution_count": 16,
   "id": "47c359e6-de3e-44f6-995b-2f4b9a421cb3",
   "metadata": {},
   "outputs": [],
   "source": [
    "weight_count_m=pysqldf('''select Weight,Count(Weight) as 'Weight_Count' from sport_80 where Sex=1 group by Weight ''')\n",
    "weight_count_f=pysqldf('''select Weight,Count(Weight) as 'Weight_Count' from sport_80 where Sex=0 group by Weight ''')\n",
    "\n",
    "weight_m=pysqldf('''select Weight from sport_80 where Sex=1  ''')\n",
    "weight_f=pysqldf('''select Weight from sport_80 where Sex=0  ''')"
   ]
  },
  {
   "cell_type": "code",
   "execution_count": 17,
   "id": "978a424e-f345-4efe-86d0-5cb02514e863",
   "metadata": {},
   "outputs": [
    {
     "data": {
      "text/plain": [
       "Text(0.5, 1.0, 'Box Weight Distribution Women')"
      ]
     },
     "execution_count": 17,
     "metadata": {},
     "output_type": "execute_result"
    },
    {
     "data": {
      "image/png": "[encoded data removed]",
      "text/plain": [
       "<Figure size 1080x720 with 4 Axes>"
      ]
     },
     "metadata": {
      "needs_background": "light"
     },
     "output_type": "display_data"
    }
   ],
   "source": [
    "fig, axs = plt.subplots(2,2,figsize=(15,10))\n",
    "\n",
    "##DISTRIBUTION GRAPHS\n",
    "axs[0,0].plot(weight_count_m['Weight'],weight_count_m['Weight_Count'])\n",
    "\n",
    "axs[0,0].set_xlabel('Weight') # add to x-label to the plot\n",
    "axs[0,0].set_ylabel('Number of Athlets') # add y-label to the plot\n",
    "axs[0,0].set_title('Weight Distribution Men') # add title to the plot\n",
    "\n",
    "axs[0,1].plot(weight_count_f['Weight'],weight_count_f['Weight_Count'])\n",
    "\n",
    "axs[0,1].set_xlabel('Weight') # add to x-label to the plot\n",
    "axs[0,1].set_ylabel('Number of Athlets') # add y-label to the plot\n",
    "axs[0,1].set_title('Weight Distribution Women') # add title to the plot\n",
    "\n",
    "##BOX PLOT\n",
    "axs[1,0].boxplot(weight_m['Weight'],vert=False)\n",
    "\n",
    "axs[1,0].set_xlabel('Weight') # add to x-label to the plot\n",
    "axs[1,0].set_title('Box Weight Distribution Men') # add title to the plot\n",
    "\n",
    "axs[1,1].boxplot(weight_f['Weight'],vert=False)\n",
    "\n",
    "axs[1,1].set_xlabel('Weight') # add to x-label to the plot\n",
    "axs[1,1].set_title('Box Weight Distribution Women') # add title to the plot"
   ]
  },
  {
   "cell_type": "code",
   "execution_count": 18,
   "id": "1176d64b-5bd4-41ba-b3d3-699100ebbc9e",
   "metadata": {},
   "outputs": [],
   "source": [
    "height_count_m=pysqldf('''select Height,Count(Height) as 'Height_Count' from sport_80 where Sex=1 group by Height ''')\n",
    "height_count_f=pysqldf('''select Height,Count(Height) as 'Height_Count' from sport_80 where Sex=0 group by Height ''')\n",
    "\n",
    "height_m=pysqldf('''select Height from sport_80 where Sex=1  ''')\n",
    "height_f=pysqldf('''select Height from sport_80 where Sex=0  ''')"
   ]
  },
  {
   "cell_type": "code",
   "execution_count": 19,
   "id": "2dff5b38-fef2-45ea-bb7c-86ffadc45957",
   "metadata": {},
   "outputs": [
    {
     "data": {
      "text/plain": [
       "Text(0.5, 1.0, 'Box Height Distribution Women')"
      ]
     },
     "execution_count": 19,
     "metadata": {},
     "output_type": "execute_result"
    },
    {
     "data": {
      "image/png": "[encoded data removed]",
      "text/plain": [
       "<Figure size 1080x720 with 4 Axes>"
      ]
     },
     "metadata": {
      "needs_background": "light"
     },
     "output_type": "display_data"
    }
   ],
   "source": [
    "fig, axs = plt.subplots(2,2,figsize=(15,10))\n",
    "\n",
    "##DISTRIBUTION GRAPHS\n",
    "axs[0,0].plot(height_count_m['Height'],height_count_m['Height_Count'])\n",
    "\n",
    "axs[0,0].set_xlabel('Height') # add to x-label to the plot\n",
    "axs[0,0].set_ylabel('Number of Athlets') # add y-label to the plot\n",
    "axs[0,0].set_title('Weight Distribution Men') # add title to the plot\n",
    "\n",
    "axs[0,1].plot(height_count_f['Height'],height_count_f['Height_Count'])\n",
    "\n",
    "axs[0,1].set_xlabel('Height') # add to x-label to the plot\n",
    "axs[0,1].set_ylabel('Number of Athlets') # add y-label to the plot\n",
    "axs[0,1].set_title('Height Distribution Women') # add title to the plot\n",
    "\n",
    "##BOX PLOT\n",
    "axs[1,0].boxplot(height_m['Height'],vert=False)\n",
    "\n",
    "axs[1,0].set_xlabel('Weight') # add to x-label to the plot\n",
    "axs[1,0].set_title('Box Height Distribution Men') # add title to the plot\n",
    "\n",
    "axs[1,1].boxplot(height_f['Height'],vert=False)\n",
    "\n",
    "axs[1,1].set_xlabel('Height') # add to x-label to the plot\n",
    "axs[1,1].set_title('Box Height Distribution Women') # add title to the plot"
   ]
  },
  {
   "cell_type": "markdown",
   "id": "d77dc15a-6d0c-47ee-ba2e-6420a3ea9fb1",
   "metadata": {},
   "source": [
    "#### further quick exploration, looking for a relationship between weight and height"
   ]
  },
  {
   "cell_type": "code",
   "execution_count": 20,
   "id": "67338912-2f85-4bb2-84c5-6cf61488c5ed",
   "metadata": {},
   "outputs": [
    {
     "data": {
      "text/plain": [
       "<matplotlib.collections.PathCollection at 0x159c5a06350>"
      ]
     },
     "execution_count": 20,
     "metadata": {},
     "output_type": "execute_result"
    },
    {
     "data": {
      "image/png": "[encoded data removed]",
      "text/plain": [
       "<Figure size 432x288 with 1 Axes>"
      ]
     },
     "metadata": {
      "needs_background": "light"
     },
     "output_type": "display_data"
    }
   ],
   "source": [
    "plt.scatter(height_m, weight_m,  color='blue')"
   ]
  },
  {
   "cell_type": "code",
   "execution_count": 21,
   "id": "1d0e50dd-2776-4f89-be21-8b8c6a206948",
   "metadata": {},
   "outputs": [
    {
     "data": {
      "text/plain": [
       "<matplotlib.collections.PathCollection at 0x159bc6a5810>"
      ]
     },
     "execution_count": 21,
     "metadata": {},
     "output_type": "execute_result"
    },
    {
     "data": {
      "image/png": "[encoded data removed]",
      "text/plain": [
       "<Figure size 432x288 with 1 Axes>"
      ]
     },
     "metadata": {
      "needs_background": "light"
     },
     "output_type": "display_data"
    }
   ],
   "source": [
    "plt.scatter(height_f, weight_f,  color='blue')"
   ]
  },
  {
   "cell_type": "markdown",
   "id": "1d42fd54-654f-4f3e-abd9-cb884e6751fe",
   "metadata": {},
   "source": [
    "#### 8. Let's make these statistics differentiating for winter sports vs summer sports"
   ]
  },
  {
   "cell_type": "markdown",
   "id": "002841ab-f137-4046-9cd9-1c11726008e1",
   "metadata": {},
   "source": [
    "##### Weight"
   ]
  },
  {
   "cell_type": "code",
   "execution_count": 22,
   "id": "38bf7902-87c4-4016-a655-aabe792f48f2",
   "metadata": {},
   "outputs": [],
   "source": [
    "weight_count_m_s=pysqldf('''select Weight,Count(Weight) as 'Weight_Count' from sport_80 where Sex=1 and Season = 1 group by Weight ''')\n",
    "weight_count_f_s=pysqldf('''select Weight,Count(Weight) as 'Weight_Count' from sport_80 where Sex=0 and Season = 1 group by Weight ''')\n",
    "\n",
    "weight_m_s=pysqldf('''select Weight from sport_80 where Sex=1 and Season = 1 ''')\n",
    "weight_f_s=pysqldf('''select Weight from sport_80 where Sex=0 and Season = 1 ''')"
   ]
  },
  {
   "cell_type": "code",
   "execution_count": 23,
   "id": "39d9d9eb-2454-4638-8152-cd62fe67f8ca",
   "metadata": {},
   "outputs": [],
   "source": [
    "weight_count_m_w=pysqldf('''select Weight,Count(Weight) as 'Weight_Count' from sport_80 where Sex=1 and Season = 0 group by Weight ''')\n",
    "weight_count_f_w=pysqldf('''select Weight,Count(Weight) as 'Weight_Count' from sport_80 where Sex=0 and Season = 0 group by Weight ''')\n",
    "\n",
    "weight_m_w=pysqldf('''select Weight from sport_80 where Sex=1 and Season = 0 ''')\n",
    "weight_f_w=pysqldf('''select Weight from sport_80 where Sex=0 and Season = 0 ''')"
   ]
  },
  {
   "cell_type": "code",
   "execution_count": 24,
   "id": "6f0b1abb-fbf0-4744-8201-d89fb50a090a",
   "metadata": {},
   "outputs": [
    {
     "data": {
      "text/html": [
       "<div>\n",
       "<style scoped>\n",
       "    .dataframe tbody tr th:only-of-type {\n",
       "        vertical-align: middle;\n",
       "    }\n",
       "\n",
       "    .dataframe tbody tr th {\n",
       "        vertical-align: top;\n",
       "    }\n",
       "\n",
       "    .dataframe thead th {\n",
       "        text-align: right;\n",
       "    }\n",
       "</style>\n",
       "<table border=\"1\" class=\"dataframe\">\n",
       "  <thead>\n",
       "    <tr style=\"text-align: right;\">\n",
       "      <th></th>\n",
       "      <th>Weight</th>\n",
       "    </tr>\n",
       "  </thead>\n",
       "  <tbody>\n",
       "    <tr>\n",
       "      <th>count</th>\n",
       "      <td>67371.000000</td>\n",
       "    </tr>\n",
       "    <tr>\n",
       "      <th>mean</th>\n",
       "      <td>77.312961</td>\n",
       "    </tr>\n",
       "    <tr>\n",
       "      <th>std</th>\n",
       "      <td>14.441964</td>\n",
       "    </tr>\n",
       "    <tr>\n",
       "      <th>min</th>\n",
       "      <td>37.000000</td>\n",
       "    </tr>\n",
       "    <tr>\n",
       "      <th>25%</th>\n",
       "      <td>68.000000</td>\n",
       "    </tr>\n",
       "    <tr>\n",
       "      <th>50%</th>\n",
       "      <td>75.000000</td>\n",
       "    </tr>\n",
       "    <tr>\n",
       "      <th>75%</th>\n",
       "      <td>85.000000</td>\n",
       "    </tr>\n",
       "    <tr>\n",
       "      <th>max</th>\n",
       "      <td>214.000000</td>\n",
       "    </tr>\n",
       "  </tbody>\n",
       "</table>\n",
       "</div>"
      ],
      "text/plain": [
       "             Weight\n",
       "count  67371.000000\n",
       "mean      77.312961\n",
       "std       14.441964\n",
       "min       37.000000\n",
       "25%       68.000000\n",
       "50%       75.000000\n",
       "75%       85.000000\n",
       "max      214.000000"
      ]
     },
     "execution_count": 24,
     "metadata": {},
     "output_type": "execute_result"
    }
   ],
   "source": [
    "weight_m_s.describe()"
   ]
  },
  {
   "cell_type": "code",
   "execution_count": 25,
   "id": "08ddbed1-f1de-445c-b1cc-f465b93ee987",
   "metadata": {},
   "outputs": [
    {
     "data": {
      "text/html": [
       "<div>\n",
       "<style scoped>\n",
       "    .dataframe tbody tr th:only-of-type {\n",
       "        vertical-align: middle;\n",
       "    }\n",
       "\n",
       "    .dataframe tbody tr th {\n",
       "        vertical-align: top;\n",
       "    }\n",
       "\n",
       "    .dataframe thead th {\n",
       "        text-align: right;\n",
       "    }\n",
       "</style>\n",
       "<table border=\"1\" class=\"dataframe\">\n",
       "  <thead>\n",
       "    <tr style=\"text-align: right;\">\n",
       "      <th></th>\n",
       "      <th>Weight</th>\n",
       "    </tr>\n",
       "  </thead>\n",
       "  <tbody>\n",
       "    <tr>\n",
       "      <th>count</th>\n",
       "      <td>41778.000000</td>\n",
       "    </tr>\n",
       "    <tr>\n",
       "      <th>mean</th>\n",
       "      <td>60.738702</td>\n",
       "    </tr>\n",
       "    <tr>\n",
       "      <th>std</th>\n",
       "      <td>11.175016</td>\n",
       "    </tr>\n",
       "    <tr>\n",
       "      <th>min</th>\n",
       "      <td>28.000000</td>\n",
       "    </tr>\n",
       "    <tr>\n",
       "      <th>25%</th>\n",
       "      <td>54.000000</td>\n",
       "    </tr>\n",
       "    <tr>\n",
       "      <th>50%</th>\n",
       "      <td>60.000000</td>\n",
       "    </tr>\n",
       "    <tr>\n",
       "      <th>75%</th>\n",
       "      <td>67.000000</td>\n",
       "    </tr>\n",
       "    <tr>\n",
       "      <th>max</th>\n",
       "      <td>167.000000</td>\n",
       "    </tr>\n",
       "  </tbody>\n",
       "</table>\n",
       "</div>"
      ],
      "text/plain": [
       "             Weight\n",
       "count  41778.000000\n",
       "mean      60.738702\n",
       "std       11.175016\n",
       "min       28.000000\n",
       "25%       54.000000\n",
       "50%       60.000000\n",
       "75%       67.000000\n",
       "max      167.000000"
      ]
     },
     "execution_count": 25,
     "metadata": {},
     "output_type": "execute_result"
    }
   ],
   "source": [
    "weight_f_s.describe()"
   ]
  },
  {
   "cell_type": "code",
   "execution_count": 26,
   "id": "813bf8e3-48bb-41e9-890f-a74dad4f1d3f",
   "metadata": {},
   "outputs": [
    {
     "data": {
      "text/html": [
       "<div>\n",
       "<style scoped>\n",
       "    .dataframe tbody tr th:only-of-type {\n",
       "        vertical-align: middle;\n",
       "    }\n",
       "\n",
       "    .dataframe tbody tr th {\n",
       "        vertical-align: top;\n",
       "    }\n",
       "\n",
       "    .dataframe thead th {\n",
       "        text-align: right;\n",
       "    }\n",
       "</style>\n",
       "<table border=\"1\" class=\"dataframe\">\n",
       "  <thead>\n",
       "    <tr style=\"text-align: right;\">\n",
       "      <th></th>\n",
       "      <th>Weight</th>\n",
       "    </tr>\n",
       "  </thead>\n",
       "  <tbody>\n",
       "    <tr>\n",
       "      <th>count</th>\n",
       "      <td>17829.000000</td>\n",
       "    </tr>\n",
       "    <tr>\n",
       "      <th>mean</th>\n",
       "      <td>77.231897</td>\n",
       "    </tr>\n",
       "    <tr>\n",
       "      <th>std</th>\n",
       "      <td>10.585654</td>\n",
       "    </tr>\n",
       "    <tr>\n",
       "      <th>min</th>\n",
       "      <td>47.000000</td>\n",
       "    </tr>\n",
       "    <tr>\n",
       "      <th>25%</th>\n",
       "      <td>70.000000</td>\n",
       "    </tr>\n",
       "    <tr>\n",
       "      <th>50%</th>\n",
       "      <td>76.000000</td>\n",
       "    </tr>\n",
       "    <tr>\n",
       "      <th>75%</th>\n",
       "      <td>84.000000</td>\n",
       "    </tr>\n",
       "    <tr>\n",
       "      <th>max</th>\n",
       "      <td>123.000000</td>\n",
       "    </tr>\n",
       "  </tbody>\n",
       "</table>\n",
       "</div>"
      ],
      "text/plain": [
       "             Weight\n",
       "count  17829.000000\n",
       "mean      77.231897\n",
       "std       10.585654\n",
       "min       47.000000\n",
       "25%       70.000000\n",
       "50%       76.000000\n",
       "75%       84.000000\n",
       "max      123.000000"
      ]
     },
     "execution_count": 26,
     "metadata": {},
     "output_type": "execute_result"
    }
   ],
   "source": [
    "weight_m_w.describe()"
   ]
  },
  {
   "cell_type": "code",
   "execution_count": 27,
   "id": "30060ad9-f53f-45de-b7e2-9fcfe0642681",
   "metadata": {},
   "outputs": [
    {
     "data": {
      "text/html": [
       "<div>\n",
       "<style scoped>\n",
       "    .dataframe tbody tr th:only-of-type {\n",
       "        vertical-align: middle;\n",
       "    }\n",
       "\n",
       "    .dataframe tbody tr th {\n",
       "        vertical-align: top;\n",
       "    }\n",
       "\n",
       "    .dataframe thead th {\n",
       "        text-align: right;\n",
       "    }\n",
       "</style>\n",
       "<table border=\"1\" class=\"dataframe\">\n",
       "  <thead>\n",
       "    <tr style=\"text-align: right;\">\n",
       "      <th></th>\n",
       "      <th>Weight</th>\n",
       "    </tr>\n",
       "  </thead>\n",
       "  <tbody>\n",
       "    <tr>\n",
       "      <th>count</th>\n",
       "      <td>9897.000000</td>\n",
       "    </tr>\n",
       "    <tr>\n",
       "      <th>mean</th>\n",
       "      <td>59.881075</td>\n",
       "    </tr>\n",
       "    <tr>\n",
       "      <th>std</th>\n",
       "      <td>7.105137</td>\n",
       "    </tr>\n",
       "    <tr>\n",
       "      <th>min</th>\n",
       "      <td>32.000000</td>\n",
       "    </tr>\n",
       "    <tr>\n",
       "      <th>25%</th>\n",
       "      <td>55.000000</td>\n",
       "    </tr>\n",
       "    <tr>\n",
       "      <th>50%</th>\n",
       "      <td>60.000000</td>\n",
       "    </tr>\n",
       "    <tr>\n",
       "      <th>75%</th>\n",
       "      <td>64.000000</td>\n",
       "    </tr>\n",
       "    <tr>\n",
       "      <th>max</th>\n",
       "      <td>96.000000</td>\n",
       "    </tr>\n",
       "  </tbody>\n",
       "</table>\n",
       "</div>"
      ],
      "text/plain": [
       "            Weight\n",
       "count  9897.000000\n",
       "mean     59.881075\n",
       "std       7.105137\n",
       "min      32.000000\n",
       "25%      55.000000\n",
       "50%      60.000000\n",
       "75%      64.000000\n",
       "max      96.000000"
      ]
     },
     "execution_count": 27,
     "metadata": {},
     "output_type": "execute_result"
    }
   ],
   "source": [
    "weight_f_w.describe()"
   ]
  },
  {
   "cell_type": "markdown",
   "id": "8dd2a8e3-1f26-41ce-a538-4b820150962a",
   "metadata": {},
   "source": [
    "##### Height"
   ]
  },
  {
   "cell_type": "code",
   "execution_count": 28,
   "id": "ab29ac48-831e-4640-9240-4038bfe3c6ff",
   "metadata": {},
   "outputs": [],
   "source": [
    "height_count_m_s=pysqldf('''select Height,Count(Height) as 'Height_Count' from sport_80 where Sex=1 and Season = 1 group by Height ''')\n",
    "height_count_f_s=pysqldf('''select Height,Count(Height) as 'Height_Count' from sport_80 where Sex=0 and Season = 1 group by Height ''')\n",
    "\n",
    "height_m_s=pysqldf('''select Height from sport_80 where Sex=1 and Season = 1 ''')\n",
    "height_f_s=pysqldf('''select Height from sport_80 where Sex=0 and Season = 1 ''')"
   ]
  },
  {
   "cell_type": "code",
   "execution_count": 29,
   "id": "3a36a3fa-7f70-45e2-8157-4c9c03a5bb16",
   "metadata": {},
   "outputs": [],
   "source": [
    "height_count_m_w=pysqldf('''select Height,Count(Height) as 'Height_Count' from sport_80 where Sex=1 and Season = 0 group by Height ''')\n",
    "height_count_f_w=pysqldf('''select Height,Count(Height) as 'Height_Count' from sport_80 where Sex=0 and Season = 0 group by Height ''')\n",
    "\n",
    "height_m_w=pysqldf('''select Height from sport_80 where Sex=1 and Season = 0 ''')\n",
    "height_f_w=pysqldf('''select Height from sport_80 where Sex=0 and Season = 0 ''')"
   ]
  },
  {
   "cell_type": "code",
   "execution_count": 30,
   "id": "cea17df6-a6e7-4877-a176-919e9856419d",
   "metadata": {},
   "outputs": [
    {
     "data": {
      "text/html": [
       "<div>\n",
       "<style scoped>\n",
       "    .dataframe tbody tr th:only-of-type {\n",
       "        vertical-align: middle;\n",
       "    }\n",
       "\n",
       "    .dataframe tbody tr th {\n",
       "        vertical-align: top;\n",
       "    }\n",
       "\n",
       "    .dataframe thead th {\n",
       "        text-align: right;\n",
       "    }\n",
       "</style>\n",
       "<table border=\"1\" class=\"dataframe\">\n",
       "  <thead>\n",
       "    <tr style=\"text-align: right;\">\n",
       "      <th></th>\n",
       "      <th>Height</th>\n",
       "    </tr>\n",
       "  </thead>\n",
       "  <tbody>\n",
       "    <tr>\n",
       "      <th>count</th>\n",
       "      <td>67371.000000</td>\n",
       "    </tr>\n",
       "    <tr>\n",
       "      <th>mean</th>\n",
       "      <td>180.439239</td>\n",
       "    </tr>\n",
       "    <tr>\n",
       "      <th>std</th>\n",
       "      <td>10.192862</td>\n",
       "    </tr>\n",
       "    <tr>\n",
       "      <th>min</th>\n",
       "      <td>127.000000</td>\n",
       "    </tr>\n",
       "    <tr>\n",
       "      <th>25%</th>\n",
       "      <td>173.000000</td>\n",
       "    </tr>\n",
       "    <tr>\n",
       "      <th>50%</th>\n",
       "      <td>180.000000</td>\n",
       "    </tr>\n",
       "    <tr>\n",
       "      <th>75%</th>\n",
       "      <td>187.000000</td>\n",
       "    </tr>\n",
       "    <tr>\n",
       "      <th>max</th>\n",
       "      <td>226.000000</td>\n",
       "    </tr>\n",
       "  </tbody>\n",
       "</table>\n",
       "</div>"
      ],
      "text/plain": [
       "             Height\n",
       "count  67371.000000\n",
       "mean     180.439239\n",
       "std       10.192862\n",
       "min      127.000000\n",
       "25%      173.000000\n",
       "50%      180.000000\n",
       "75%      187.000000\n",
       "max      226.000000"
      ]
     },
     "execution_count": 30,
     "metadata": {},
     "output_type": "execute_result"
    }
   ],
   "source": [
    "height_m_s.describe()"
   ]
  },
  {
   "cell_type": "code",
   "execution_count": 31,
   "id": "4dd7b83a-2752-4e75-aa94-cac4ab36a104",
   "metadata": {},
   "outputs": [
    {
     "data": {
      "text/html": [
       "<div>\n",
       "<style scoped>\n",
       "    .dataframe tbody tr th:only-of-type {\n",
       "        vertical-align: middle;\n",
       "    }\n",
       "\n",
       "    .dataframe tbody tr th {\n",
       "        vertical-align: top;\n",
       "    }\n",
       "\n",
       "    .dataframe thead th {\n",
       "        text-align: right;\n",
       "    }\n",
       "</style>\n",
       "<table border=\"1\" class=\"dataframe\">\n",
       "  <thead>\n",
       "    <tr style=\"text-align: right;\">\n",
       "      <th></th>\n",
       "      <th>Height</th>\n",
       "    </tr>\n",
       "  </thead>\n",
       "  <tbody>\n",
       "    <tr>\n",
       "      <th>count</th>\n",
       "      <td>41778.000000</td>\n",
       "    </tr>\n",
       "    <tr>\n",
       "      <th>mean</th>\n",
       "      <td>168.949160</td>\n",
       "    </tr>\n",
       "    <tr>\n",
       "      <th>std</th>\n",
       "      <td>9.451111</td>\n",
       "    </tr>\n",
       "    <tr>\n",
       "      <th>min</th>\n",
       "      <td>132.000000</td>\n",
       "    </tr>\n",
       "    <tr>\n",
       "      <th>25%</th>\n",
       "      <td>163.000000</td>\n",
       "    </tr>\n",
       "    <tr>\n",
       "      <th>50%</th>\n",
       "      <td>169.000000</td>\n",
       "    </tr>\n",
       "    <tr>\n",
       "      <th>75%</th>\n",
       "      <td>175.000000</td>\n",
       "    </tr>\n",
       "    <tr>\n",
       "      <th>max</th>\n",
       "      <td>213.000000</td>\n",
       "    </tr>\n",
       "  </tbody>\n",
       "</table>\n",
       "</div>"
      ],
      "text/plain": [
       "             Height\n",
       "count  41778.000000\n",
       "mean     168.949160\n",
       "std        9.451111\n",
       "min      132.000000\n",
       "25%      163.000000\n",
       "50%      169.000000\n",
       "75%      175.000000\n",
       "max      213.000000"
      ]
     },
     "execution_count": 31,
     "metadata": {},
     "output_type": "execute_result"
    }
   ],
   "source": [
    "height_f_s.describe()"
   ]
  },
  {
   "cell_type": "code",
   "execution_count": 32,
   "id": "c3cf0e6f-871b-4fba-afa8-c84fd11d9a13",
   "metadata": {},
   "outputs": [
    {
     "data": {
      "text/html": [
       "<div>\n",
       "<style scoped>\n",
       "    .dataframe tbody tr th:only-of-type {\n",
       "        vertical-align: middle;\n",
       "    }\n",
       "\n",
       "    .dataframe tbody tr th {\n",
       "        vertical-align: top;\n",
       "    }\n",
       "\n",
       "    .dataframe thead th {\n",
       "        text-align: right;\n",
       "    }\n",
       "</style>\n",
       "<table border=\"1\" class=\"dataframe\">\n",
       "  <thead>\n",
       "    <tr style=\"text-align: right;\">\n",
       "      <th></th>\n",
       "      <th>Height</th>\n",
       "    </tr>\n",
       "  </thead>\n",
       "  <tbody>\n",
       "    <tr>\n",
       "      <th>count</th>\n",
       "      <td>17829.000000</td>\n",
       "    </tr>\n",
       "    <tr>\n",
       "      <th>mean</th>\n",
       "      <td>179.595659</td>\n",
       "    </tr>\n",
       "    <tr>\n",
       "      <th>std</th>\n",
       "      <td>6.258994</td>\n",
       "    </tr>\n",
       "    <tr>\n",
       "      <th>min</th>\n",
       "      <td>149.000000</td>\n",
       "    </tr>\n",
       "    <tr>\n",
       "      <th>25%</th>\n",
       "      <td>175.000000</td>\n",
       "    </tr>\n",
       "    <tr>\n",
       "      <th>50%</th>\n",
       "      <td>180.000000</td>\n",
       "    </tr>\n",
       "    <tr>\n",
       "      <th>75%</th>\n",
       "      <td>184.000000</td>\n",
       "    </tr>\n",
       "    <tr>\n",
       "      <th>max</th>\n",
       "      <td>206.000000</td>\n",
       "    </tr>\n",
       "  </tbody>\n",
       "</table>\n",
       "</div>"
      ],
      "text/plain": [
       "             Height\n",
       "count  17829.000000\n",
       "mean     179.595659\n",
       "std        6.258994\n",
       "min      149.000000\n",
       "25%      175.000000\n",
       "50%      180.000000\n",
       "75%      184.000000\n",
       "max      206.000000"
      ]
     },
     "execution_count": 32,
     "metadata": {},
     "output_type": "execute_result"
    }
   ],
   "source": [
    "height_m_w.describe()"
   ]
  },
  {
   "cell_type": "code",
   "execution_count": 33,
   "id": "ab95f0d3-32c7-4d1a-b9b4-0ee70d3a12c6",
   "metadata": {},
   "outputs": [
    {
     "data": {
      "text/html": [
       "<div>\n",
       "<style scoped>\n",
       "    .dataframe tbody tr th:only-of-type {\n",
       "        vertical-align: middle;\n",
       "    }\n",
       "\n",
       "    .dataframe tbody tr th {\n",
       "        vertical-align: top;\n",
       "    }\n",
       "\n",
       "    .dataframe thead th {\n",
       "        text-align: right;\n",
       "    }\n",
       "</style>\n",
       "<table border=\"1\" class=\"dataframe\">\n",
       "  <thead>\n",
       "    <tr style=\"text-align: right;\">\n",
       "      <th></th>\n",
       "      <th>Height</th>\n",
       "    </tr>\n",
       "  </thead>\n",
       "  <tbody>\n",
       "    <tr>\n",
       "      <th>count</th>\n",
       "      <td>9897.000000</td>\n",
       "    </tr>\n",
       "    <tr>\n",
       "      <th>mean</th>\n",
       "      <td>166.876225</td>\n",
       "    </tr>\n",
       "    <tr>\n",
       "      <th>std</th>\n",
       "      <td>6.005163</td>\n",
       "    </tr>\n",
       "    <tr>\n",
       "      <th>min</th>\n",
       "      <td>142.000000</td>\n",
       "    </tr>\n",
       "    <tr>\n",
       "      <th>25%</th>\n",
       "      <td>163.000000</td>\n",
       "    </tr>\n",
       "    <tr>\n",
       "      <th>50%</th>\n",
       "      <td>167.000000</td>\n",
       "    </tr>\n",
       "    <tr>\n",
       "      <th>75%</th>\n",
       "      <td>171.000000</td>\n",
       "    </tr>\n",
       "    <tr>\n",
       "      <th>max</th>\n",
       "      <td>194.000000</td>\n",
       "    </tr>\n",
       "  </tbody>\n",
       "</table>\n",
       "</div>"
      ],
      "text/plain": [
       "            Height\n",
       "count  9897.000000\n",
       "mean    166.876225\n",
       "std       6.005163\n",
       "min     142.000000\n",
       "25%     163.000000\n",
       "50%     167.000000\n",
       "75%     171.000000\n",
       "max     194.000000"
      ]
     },
     "execution_count": 33,
     "metadata": {},
     "output_type": "execute_result"
    }
   ],
   "source": [
    "height_f_w.describe()"
   ]
  },
  {
   "cell_type": "markdown",
   "id": "cc6bcffe-2619-4fee-9184-3b3832cb7d20",
   "metadata": {},
   "source": [
    "#### Summer vs Winter Height"
   ]
  },
  {
   "cell_type": "code",
   "execution_count": 34,
   "id": "2103c476-6a4c-472c-a583-f7fa0d725ce8",
   "metadata": {},
   "outputs": [
    {
     "data": {
      "text/plain": [
       "Text(0.5, 1.0, 'Box Height Distribution Men Winter')"
      ]
     },
     "execution_count": 34,
     "metadata": {},
     "output_type": "execute_result"
    },
    {
     "data": {
      "image/png": "[encoded data removed]",
      "text/plain": [
       "<Figure size 1080x720 with 4 Axes>"
      ]
     },
     "metadata": {
      "needs_background": "light"
     },
     "output_type": "display_data"
    }
   ],
   "source": [
    "fig, axs = plt.subplots(2,2,figsize=(15,10))\n",
    "\n",
    "##DISTRIBUTION GRAPHS\n",
    "axs[0,0].plot(height_count_m_s['Height'],height_count_m_s['Height_Count'])\n",
    "\n",
    "axs[0,0].set_xlabel('Height') # add to x-label to the plot\n",
    "axs[0,0].set_ylabel('Number of Athlets') # add y-label to the plot\n",
    "axs[0,0].set_title('Height Summer Distribution Men Summer') # add title to the plot\n",
    "\n",
    "axs[0,1].plot(height_count_m_w['Height'],height_count_m_w['Height_Count'])\n",
    "\n",
    "axs[0,1].set_xlabel('Height') # add to x-label to the plot\n",
    "axs[0,1].set_ylabel('Number of Athlets') # add y-label to the plot\n",
    "axs[0,1].set_title('Height Winter Distribution Men Winter') # add title to the plot\n",
    "\n",
    "##BOX PLOT\n",
    "axs[1,0].boxplot(height_m_s['Height'],vert=False)\n",
    "\n",
    "axs[1,0].set_xlabel('Height') # add to x-label to the plot\n",
    "axs[1,0].set_title('Box Height Distribution Men Summer') # add title to the plot\n",
    "\n",
    "axs[1,1].boxplot(height_m_w['Height'],vert=False)\n",
    "\n",
    "axs[1,1].set_xlabel('Height') # add to x-label to the plot\n",
    "axs[1,1].set_title('Box Height Distribution Men Winter') # add title to the plot"
   ]
  },
  {
   "cell_type": "code",
   "execution_count": 35,
   "id": "5e89d15c-ccab-4400-9a28-d0e05e3b4d32",
   "metadata": {},
   "outputs": [
    {
     "data": {
      "text/plain": [
       "Text(0.5, 1.0, 'Box Height Distribution Women Winter')"
      ]
     },
     "execution_count": 35,
     "metadata": {},
     "output_type": "execute_result"
    },
    {
     "data": {
      "image/png": "[encoded data removed]",
      "text/plain": [
       "<Figure size 1080x720 with 4 Axes>"
      ]
     },
     "metadata": {
      "needs_background": "light"
     },
     "output_type": "display_data"
    }
   ],
   "source": [
    "fig, axs = plt.subplots(2,2,figsize=(15,10))\n",
    "\n",
    "##DISTRIBUTION GRAPHS\n",
    "axs[0,0].plot(height_count_f_s['Height'],height_count_f_s['Height_Count'])\n",
    "\n",
    "axs[0,0].set_xlabel('Height') # add to x-label to the plot\n",
    "axs[0,0].set_ylabel('Number of Athlets') # add y-label to the plot\n",
    "axs[0,0].set_title('Height Distribution Women Summer') # add title to the plot\n",
    "\n",
    "axs[0,1].plot(height_count_f_w['Height'],height_count_f_w['Height_Count'])\n",
    "\n",
    "axs[0,1].set_xlabel('Height') # add to x-label to the plot\n",
    "axs[0,1].set_ylabel('Number of Athlets') # add y-label to the plot\n",
    "axs[0,1].set_title('Height Distribution Women Winter') # add title to the plot\n",
    "\n",
    "##BOX PLOT\n",
    "axs[1,0].boxplot(height_f_s['Height'],vert=False)\n",
    "\n",
    "axs[1,0].set_xlabel('Height') # add to x-label to the plot\n",
    "axs[1,0].set_title('Box Height Distribution Women Summer') # add title to the plot\n",
    "\n",
    "axs[1,1].boxplot(height_f_w['Height'],vert=False)\n",
    "\n",
    "axs[1,1].set_xlabel('Height') # add to x-label to the plot\n",
    "axs[1,1].set_title('Box Height Distribution Women Winter') # add title to the plot"
   ]
  },
  {
   "cell_type": "code",
   "execution_count": 36,
   "id": "171dd520-3fb4-4472-b282-71813386c9f6",
   "metadata": {},
   "outputs": [
    {
     "data": {
      "text/plain": [
       "Text(0.5, 1.0, 'Box Weight Distribution Men Winter')"
      ]
     },
     "execution_count": 36,
     "metadata": {},
     "output_type": "execute_result"
    },
    {
     "data": {
      "image/png": "[encoded data removed]",
      "text/plain": [
       "<Figure size 1080x720 with 4 Axes>"
      ]
     },
     "metadata": {
      "needs_background": "light"
     },
     "output_type": "display_data"
    }
   ],
   "source": [
    "fig, axs = plt.subplots(2,2,figsize=(15,10))\n",
    "\n",
    "##DISTRIBUTION GRAPHS\n",
    "axs[0,0].plot(weight_count_m_s['Weight'],weight_count_m_s['Weight_Count'])\n",
    "\n",
    "axs[0,0].set_xlabel('Weight') # add to x-label to the plot\n",
    "axs[0,0].set_ylabel('Number of Athlets') # add y-label to the plot\n",
    "axs[0,0].set_title('Weight Summer Distribution Men Summer') # add title to the plot\n",
    "\n",
    "axs[0,1].plot(weight_count_m_w['Weight'],weight_count_m_w['Weight_Count'])\n",
    "\n",
    "axs[0,1].set_xlabel('Weight') # add to x-label to the plot\n",
    "axs[0,1].set_ylabel('Number of Athlets') # add y-label to the plot\n",
    "axs[0,1].set_title('Weight Winter Distribution Men Winter') # add title to the plot\n",
    "\n",
    "##BOX PLOT\n",
    "axs[1,0].boxplot(weight_m_s['Weight'],vert=False)\n",
    "\n",
    "axs[1,0].set_xlabel('Weight') # add to x-label to the plot\n",
    "axs[1,0].set_title('Box Weight Distribution Men Summer') # add title to the plot\n",
    "\n",
    "axs[1,1].boxplot(weight_m_w['Weight'],vert=False)\n",
    "\n",
    "axs[1,1].set_xlabel('Weight') # add to x-label to the plot\n",
    "axs[1,1].set_title('Box Weight Distribution Men Winter') # add title to the plot"
   ]
  },
  {
   "cell_type": "code",
   "execution_count": 37,
   "id": "bd5d8823-1291-4d0a-8635-956c5afcee0a",
   "metadata": {},
   "outputs": [
    {
     "data": {
      "text/plain": [
       "Text(0.5, 1.0, 'Box Weight Distribution Women Winter')"
      ]
     },
     "execution_count": 37,
     "metadata": {},
     "output_type": "execute_result"
    },
    {
     "data": {
      "image/png": "[encoded data removed]",
      "text/plain": [
       "<Figure size 1080x720 with 4 Axes>"
      ]
     },
     "metadata": {
      "needs_background": "light"
     },
     "output_type": "display_data"
    }
   ],
   "source": [
    "fig, axs = plt.subplots(2,2,figsize=(15,10))\n",
    "\n",
    "##DISTRIBUTION GRAPHS\n",
    "axs[0,0].plot(weight_count_f_s['Weight'],weight_count_f_s['Weight_Count'])\n",
    "\n",
    "axs[0,0].set_xlabel('Weight') # add to x-label to the plot\n",
    "axs[0,0].set_ylabel('Number of Athlets') # add y-label to the plot\n",
    "axs[0,0].set_title('Weight Distribution Women Summer') # add title to the plot\n",
    "\n",
    "axs[0,1].plot(weight_count_f_w['Weight'],weight_count_f_w['Weight_Count'])\n",
    "\n",
    "axs[0,1].set_xlabel('Weight') # add to x-label to the plot\n",
    "axs[0,1].set_ylabel('Number of Athlets') # add y-label to the plot\n",
    "axs[0,1].set_title('Weight Distribution Women Winter') # add title to the plot\n",
    "\n",
    "##BOX PLOT\n",
    "axs[1,0].boxplot(weight_f_s['Weight'],vert=False)\n",
    "\n",
    "axs[1,0].set_xlabel('Weight') # add to x-label to the plot\n",
    "axs[1,0].set_title('Box Weight Distribution Women Summer') # add title to the plot\n",
    "\n",
    "axs[1,1].boxplot(weight_f_w['Weight'],vert=False)\n",
    "\n",
    "axs[1,1].set_xlabel('Weight') # add to x-label to the plot\n",
    "axs[1,1].set_title('Box Weight Distribution Women Winter') # add title to the plot"
   ]
  },
  {
   "cell_type": "markdown",
   "id": "836f875f-8b4b-4ae4-83e8-ab4aa7351511",
   "metadata": {},
   "source": [
    "### A/B TESTING"
   ]
  },
  {
   "cell_type": "code",
   "execution_count": 38,
   "id": "40f8e985-87be-40bf-8ecb-a3df8154b00e",
   "metadata": {},
   "outputs": [
    {
     "data": {
      "text/plain": [
       "(10.537528545769307, 6.017725959006674e-26)"
      ]
     },
     "execution_count": 38,
     "metadata": {},
     "output_type": "execute_result"
    }
   ],
   "source": [
    "t_stat, p_val= ss.ttest_ind(height_m_s['Height'],height_m_w['Height'])\n",
    "t_stat, p_val"
   ]
  },
  {
   "cell_type": "code",
   "execution_count": 39,
   "id": "086a734f-d77a-4f8a-b339-ca901d228e5f",
   "metadata": {},
   "outputs": [
    {
     "data": {
      "text/plain": [
       "(20.84581328231301, 4.1439688067478515e-96)"
      ]
     },
     "execution_count": 39,
     "metadata": {},
     "output_type": "execute_result"
    }
   ],
   "source": [
    "t_stat, p_val= ss.ttest_ind(height_f_s['Height'],height_f_w['Height'])\n",
    "t_stat, p_val"
   ]
  },
  {
   "cell_type": "code",
   "execution_count": 40,
   "id": "ef1ec191-2f71-41c3-b1ba-5ba96a0b63f6",
   "metadata": {},
   "outputs": [
    {
     "data": {
      "text/plain": [
       "(0.7012859803826186, 0.4831264765792309)"
      ]
     },
     "execution_count": 40,
     "metadata": {},
     "output_type": "execute_result"
    }
   ],
   "source": [
    "t_stat, p_val= ss.ttest_ind(weight_m_s['Weight'],weight_m_w['Weight'])\n",
    "t_stat, p_val"
   ]
  },
  {
   "cell_type": "code",
   "execution_count": 41,
   "id": "a8732a36-5e52-4220-ae6c-dccd0bc86901",
   "metadata": {},
   "outputs": [
    {
     "data": {
      "text/plain": [
       "(7.293597248171901, 3.0610024058333367e-13)"
      ]
     },
     "execution_count": 41,
     "metadata": {},
     "output_type": "execute_result"
    }
   ],
   "source": [
    "t_stat, p_val= ss.ttest_ind(weight_f_s['Weight'],weight_f_w['Weight'])\n",
    "t_stat, p_val"
   ]
  },
  {
   "cell_type": "markdown",
   "id": "9ccb9e05-cd9a-4679-9be3-96bd0a77c113",
   "metadata": {},
   "source": [
    "#### H0 hyphotesis is rejected most of the time, so it seems to be a difference in weight and height for winter sport and summer sport, exept for the weight of men which seems to be equal in the both groups, winter athletes and summer athletes."
   ]
  },
  {
   "cell_type": "markdown",
   "id": "1216cef5-44f1-4c75-bce5-6d1a23e05dc6",
   "metadata": {},
   "source": [
    "### A/B TESTING FOR  DIFFERENCE BETWEEN SPORTS"
   ]
  },
  {
   "cell_type": "code",
   "execution_count": 42,
   "id": "39654f7b-76d8-4583-948e-947267c5d7bd",
   "metadata": {},
   "outputs": [
    {
     "name": "stdout",
     "output_type": "stream",
     "text": [
      "Height T-stat:  -111.3967094784561 Height p-value:  0.0\n",
      "Weight T-stat:  -53.347663315055506 Weight p-value:  0.0\n"
     ]
    }
   ],
   "source": [
    "Sport_tt1=pysqldf('''select Height,Weight from sport_80 Where Sport = 'Gymnastics' and Sex=1 ''')\n",
    "Sport_tt2=pysqldf('''select Height,Weight from sport_80 Where Sport = 'Athletics' and Sex=1 ''')\n",
    "\n",
    "t_stat, p_val= ss.ttest_ind(Sport_tt1['Height'],Sport_tt2['Height'])\n",
    "print('Height T-stat: ', t_stat,'Height p-value: ', p_val)\n",
    "\n",
    "t_stat, p_val= ss.ttest_ind(Sport_tt1['Weight'],Sport_tt2['Weight'])\n",
    "print('Weight T-stat: ', t_stat,'Weight p-value: ', p_val)"
   ]
  },
  {
   "cell_type": "code",
   "execution_count": 43,
   "id": "492e374d-de51-44fb-b2ca-2d342c9e88c5",
   "metadata": {},
   "outputs": [
    {
     "data": {
      "text/plain": [
       "Text(0.5, 1.0, 'Box Weight Distribution Athletics')"
      ]
     },
     "execution_count": 43,
     "metadata": {},
     "output_type": "execute_result"
    },
    {
     "data": {
      "image/png": "[encoded data removed]",
      "text/plain": [
       "<Figure size 720x504 with 4 Axes>"
      ]
     },
     "metadata": {
      "needs_background": "light"
     },
     "output_type": "display_data"
    }
   ],
   "source": [
    "fig, axs = plt.subplots(2,2,figsize=(10,7))\n",
    "\n",
    "##BOX PLOT\n",
    "axs[0,0].boxplot(Sport_tt1['Height'],vert=False)\n",
    "\n",
    "axs[0,0].set_xlabel('Height') # add to x-label to the plot\n",
    "axs[0,0].set_title('Box Height Distribution Gymnastics') # add title to the plot\n",
    "\n",
    "axs[1,0].boxplot(Sport_tt2['Height'],vert=False)\n",
    "\n",
    "axs[1,0].set_xlabel('Height') # add to x-label to the plot\n",
    "axs[1,0].set_title('Box Height Distribution Athletics') # add title to the plot\n",
    "\n",
    "##BOX PLOT\n",
    "axs[0,1].boxplot(Sport_tt1['Weight'],vert=False)\n",
    "\n",
    "axs[0,1].set_xlabel('Weight') # add to x-label to the plot\n",
    "axs[0,1].set_title('Box Weight Distribution Gymnastics') # add title to the plot\n",
    "\n",
    "axs[1,1].boxplot(Sport_tt2['Weight'],vert=False)\n",
    "\n",
    "axs[1,1].set_xlabel('Weight') # add to x-label to the plot\n",
    "axs[1,1].set_title('Box Weight Distribution Athletics') # add title to the plot"
   ]
  },
  {
   "cell_type": "markdown",
   "id": "77c853c8-e5f4-42af-b084-66c24b3a403b",
   "metadata": {},
   "source": [
    "#### Let's see if there exists difference in hight between China and Italy for the male population"
   ]
  },
  {
   "cell_type": "code",
   "execution_count": 44,
   "id": "93fcab97-10e7-4e93-8d82-46fb8b087866",
   "metadata": {},
   "outputs": [
    {
     "data": {
      "text/html": [
       "<div>\n",
       "<style scoped>\n",
       "    .dataframe tbody tr th:only-of-type {\n",
       "        vertical-align: middle;\n",
       "    }\n",
       "\n",
       "    .dataframe tbody tr th {\n",
       "        vertical-align: top;\n",
       "    }\n",
       "\n",
       "    .dataframe thead th {\n",
       "        text-align: right;\n",
       "    }\n",
       "</style>\n",
       "<table border=\"1\" class=\"dataframe\">\n",
       "  <thead>\n",
       "    <tr style=\"text-align: right;\">\n",
       "      <th></th>\n",
       "      <th>Height</th>\n",
       "    </tr>\n",
       "  </thead>\n",
       "  <tbody>\n",
       "    <tr>\n",
       "      <th>count</th>\n",
       "      <td>3369.000000</td>\n",
       "    </tr>\n",
       "    <tr>\n",
       "      <th>mean</th>\n",
       "      <td>180.266845</td>\n",
       "    </tr>\n",
       "    <tr>\n",
       "      <th>std</th>\n",
       "      <td>8.870825</td>\n",
       "    </tr>\n",
       "    <tr>\n",
       "      <th>min</th>\n",
       "      <td>152.000000</td>\n",
       "    </tr>\n",
       "    <tr>\n",
       "      <th>25%</th>\n",
       "      <td>174.000000</td>\n",
       "    </tr>\n",
       "    <tr>\n",
       "      <th>50%</th>\n",
       "      <td>180.000000</td>\n",
       "    </tr>\n",
       "    <tr>\n",
       "      <th>75%</th>\n",
       "      <td>186.000000</td>\n",
       "    </tr>\n",
       "    <tr>\n",
       "      <th>max</th>\n",
       "      <td>215.000000</td>\n",
       "    </tr>\n",
       "  </tbody>\n",
       "</table>\n",
       "</div>"
      ],
      "text/plain": [
       "            Height\n",
       "count  3369.000000\n",
       "mean    180.266845\n",
       "std       8.870825\n",
       "min     152.000000\n",
       "25%     174.000000\n",
       "50%     180.000000\n",
       "75%     186.000000\n",
       "max     215.000000"
      ]
     },
     "execution_count": 44,
     "metadata": {},
     "output_type": "execute_result"
    }
   ],
   "source": [
    "height_ita=pysqldf('''select Height from sport_80 where NOC=\"ITA\" and Sex=1 ''')\n",
    "height_chn=pysqldf('''select Height from sport_80 where NOC=\"CHN\" and Sex=1 ''')\n",
    "height_ita.describe()"
   ]
  },
  {
   "cell_type": "code",
   "execution_count": 45,
   "id": "0e03df15-a644-4e68-8660-34d8f62df078",
   "metadata": {},
   "outputs": [
    {
     "data": {
      "text/html": [
       "<div>\n",
       "<style scoped>\n",
       "    .dataframe tbody tr th:only-of-type {\n",
       "        vertical-align: middle;\n",
       "    }\n",
       "\n",
       "    .dataframe tbody tr th {\n",
       "        vertical-align: top;\n",
       "    }\n",
       "\n",
       "    .dataframe thead th {\n",
       "        text-align: right;\n",
       "    }\n",
       "</style>\n",
       "<table border=\"1\" class=\"dataframe\">\n",
       "  <thead>\n",
       "    <tr style=\"text-align: right;\">\n",
       "      <th></th>\n",
       "      <th>Height</th>\n",
       "    </tr>\n",
       "  </thead>\n",
       "  <tbody>\n",
       "    <tr>\n",
       "      <th>count</th>\n",
       "      <td>2121.000000</td>\n",
       "    </tr>\n",
       "    <tr>\n",
       "      <th>mean</th>\n",
       "      <td>177.689769</td>\n",
       "    </tr>\n",
       "    <tr>\n",
       "      <th>std</th>\n",
       "      <td>11.732913</td>\n",
       "    </tr>\n",
       "    <tr>\n",
       "      <th>min</th>\n",
       "      <td>148.000000</td>\n",
       "    </tr>\n",
       "    <tr>\n",
       "      <th>25%</th>\n",
       "      <td>170.000000</td>\n",
       "    </tr>\n",
       "    <tr>\n",
       "      <th>50%</th>\n",
       "      <td>178.000000</td>\n",
       "    </tr>\n",
       "    <tr>\n",
       "      <th>75%</th>\n",
       "      <td>185.000000</td>\n",
       "    </tr>\n",
       "    <tr>\n",
       "      <th>max</th>\n",
       "      <td>226.000000</td>\n",
       "    </tr>\n",
       "  </tbody>\n",
       "</table>\n",
       "</div>"
      ],
      "text/plain": [
       "            Height\n",
       "count  2121.000000\n",
       "mean    177.689769\n",
       "std      11.732913\n",
       "min     148.000000\n",
       "25%     170.000000\n",
       "50%     178.000000\n",
       "75%     185.000000\n",
       "max     226.000000"
      ]
     },
     "execution_count": 45,
     "metadata": {},
     "output_type": "execute_result"
    }
   ],
   "source": [
    "height_chn.describe()"
   ]
  },
  {
   "cell_type": "code",
   "execution_count": 46,
   "id": "02dad6d6-58b7-4c59-ad5b-77113f13f78e",
   "metadata": {},
   "outputs": [
    {
     "data": {
      "text/plain": [
       "Text(0.5, 1.0, 'Box Height Distribution CHN')"
      ]
     },
     "execution_count": 46,
     "metadata": {},
     "output_type": "execute_result"
    },
    {
     "data": {
      "image/png": "[encoded data removed]",
      "text/plain": [
       "<Figure size 720x504 with 2 Axes>"
      ]
     },
     "metadata": {
      "needs_background": "light"
     },
     "output_type": "display_data"
    }
   ],
   "source": [
    "fig, axs = plt.subplots(2,figsize=(10,7))\n",
    "\n",
    "##BOX PLOT\n",
    "axs[0].boxplot(height_ita['Height'],vert=False)\n",
    "\n",
    "axs[0].set_xlabel('Weight') # add to x-label to the plot\n",
    "axs[0].set_title('Box Height Distribution ITA') # add title to the plot\n",
    "\n",
    "axs[1].boxplot(height_chn['Height'],vert=False)\n",
    "\n",
    "axs[1].set_xlabel('Height') # add to x-label to the plot\n",
    "axs[1].set_title('Box Height Distribution CHN') # add title to the plot"
   ]
  },
  {
   "cell_type": "code",
   "execution_count": 47,
   "id": "70bb459a-3a39-4d6a-9835-8f044ee1a6f7",
   "metadata": {},
   "outputs": [
    {
     "data": {
      "text/plain": [
       "(9.229752559109919, 3.791512826226679e-20)"
      ]
     },
     "execution_count": 47,
     "metadata": {},
     "output_type": "execute_result"
    }
   ],
   "source": [
    "t_stat, p_val= ss.ttest_ind(height_ita['Height'],height_chn['Height'])\n",
    "t_stat, p_val"
   ]
  },
  {
   "cell_type": "markdown",
   "id": "edd54b34-d452-4b5c-820d-b06b3d5a9c77",
   "metadata": {},
   "source": [
    "#### 9. Let's explore the sports"
   ]
  },
  {
   "cell_type": "code",
   "execution_count": 48,
   "id": "1280fb16-19a2-41e0-83eb-cb6f1c6e107a",
   "metadata": {},
   "outputs": [
    {
     "data": {
      "text/plain": [
       "Text(0.5, 1.0, 'Summer Sports with Most observations')"
      ]
     },
     "execution_count": 48,
     "metadata": {},
     "output_type": "execute_result"
    },
    {
     "data": {
      "image/png": "[encoded data removed]",
      "text/plain": [
       "<Figure size 864x648 with 1 Axes>"
      ]
     },
     "metadata": {
      "needs_background": "light"
     },
     "output_type": "display_data"
    }
   ],
   "source": [
    "obv_sport=pysqldf('''select Sport,Count(Sport) as 'Sport_Count' from sport_80 group by Sport ''')\n",
    "\n",
    "obv_sport_s=pysqldf('''select Sport,Count(Sport) as 'Sport_Count' from sport_80 Where Season = 1 group by Sport ''')\n",
    "\n",
    "obv_sport_s.sort_values(by='Sport_Count', ascending=True, inplace=True)\n",
    "\n",
    "obv_sport_s.set_index('Sport', inplace=True)\n",
    "\n",
    "obv_sport_s.plot.barh(figsize=(12,9)).set_title('Summer Sports with Most observations')"
   ]
  },
  {
   "cell_type": "code",
   "execution_count": 49,
   "id": "659ea509-e9eb-4397-9dc3-fbcb0ece15eb",
   "metadata": {},
   "outputs": [
    {
     "data": {
      "text/plain": [
       "Text(0.5, 1.0, 'Winter Sports with Most observations')"
      ]
     },
     "execution_count": 49,
     "metadata": {},
     "output_type": "execute_result"
    },
    {
     "data": {
      "image/png": "[encoded data removed]",
      "text/plain": [
       "<Figure size 864x648 with 1 Axes>"
      ]
     },
     "metadata": {
      "needs_background": "light"
     },
     "output_type": "display_data"
    }
   ],
   "source": [
    "obv_sport_w=pysqldf('''select Sport,Count(Sport) as 'Sport_Count' from sport_80 Where Season = 0 group by Sport ''')\n",
    "\n",
    "obv_sport_w.sort_values(by='Sport_Count', ascending=True, inplace=True)\n",
    "\n",
    "obv_sport_w.set_index('Sport', inplace=True)\n",
    "\n",
    "obv_sport_w.plot.barh(figsize=(12,9)).set_title('Winter Sports with Most observations')"
   ]
  },
  {
   "cell_type": "markdown",
   "id": "87f2cb86-fa60-4b8b-b710-768298c2b2df",
   "metadata": {},
   "source": [
    "#### For Further data exploration I Will focus on 4 sports: Atheletic, Swimming, Gymnastics and Cross Country Skiing"
   ]
  },
  {
   "cell_type": "markdown",
   "id": "ed3852ec-c369-4c39-9779-8dd73f5f17f5",
   "metadata": {},
   "source": [
    "### 10. Regression Analysis\n",
    "\n",
    "#### I will run 4 analysis for each group:\n",
    "1. Analysis on overall cleaned dataset, which are the factor that interest makes you more likely to win winning.\n",
    "2. Analysis on the subset of Cross Country Skiing\n",
    "3. Analysis on the subset of Gymnastics\n",
    "4. Analysis on the subset of Swimming\n",
    "5. Analysis on the subset of Atheletics\n",
    "\n",
    "#### First I must check if the group male and female are equale or different, otherwise adding these two groups in the same regression can lead to bias estiamtes"
   ]
  },
  {
   "cell_type": "code",
   "execution_count": 50,
   "id": "e45e121b-7bab-4109-b82b-868bc89e8e1d",
   "metadata": {},
   "outputs": [
    {
     "name": "stdout",
     "output_type": "stream",
     "text": [
      "Difference in Weight; t_stat:  237.78583480326142 p_value:  0.0\n",
      "Difference in Height; t_stat:  225.90664378364585 p_value:  0.0\n"
     ]
    }
   ],
   "source": [
    "t_stat, p_val= ss.ttest_ind(weight_m['Weight'],weight_f['Weight'])\n",
    "print('Difference in Weight; t_stat: ',t_stat, 'p_value: ', p_val)\n",
    "\n",
    "t_stat, p_val= ss.ttest_ind(height_m['Height'],height_f['Height'])\n",
    "print('Difference in Height; t_stat: ',t_stat, 'p_value: ', p_val)"
   ]
  },
  {
   "cell_type": "markdown",
   "id": "16280a17-5f46-4515-9282-b631853adc59",
   "metadata": {},
   "source": [
    "#### the two group are heterogenous\n",
    "\n",
    "#### currently i am not interested in building a predictive model, therefore i will use the full sample"
   ]
  },
  {
   "cell_type": "markdown",
   "id": "ebc409b9-0686-482d-90a7-0674d0d5c984",
   "metadata": {},
   "source": [
    "#### Now I want to create binary variable for each NOC, in order to see the influence of each country"
   ]
  },
  {
   "cell_type": "markdown",
   "id": "d81f3c6b-24f1-4f6c-8702-804e75dcebfc",
   "metadata": {},
   "source": [
    "#### the following words will be removed from sport_80: ID, Name, City,Year, NOC"
   ]
  },
  {
   "cell_type": "code",
   "execution_count": 51,
   "id": "bdba25e8-9257-4a95-a944-c7bb2d0ef535",
   "metadata": {},
   "outputs": [
    {
     "name": "stdout",
     "output_type": "stream",
     "text": [
      "(206165, 12)\n"
     ]
    },
    {
     "data": {
      "text/html": [
       "<div>\n",
       "<style scoped>\n",
       "    .dataframe tbody tr th:only-of-type {\n",
       "        vertical-align: middle;\n",
       "    }\n",
       "\n",
       "    .dataframe tbody tr th {\n",
       "        vertical-align: top;\n",
       "    }\n",
       "\n",
       "    .dataframe thead th {\n",
       "        text-align: right;\n",
       "    }\n",
       "</style>\n",
       "<table border=\"1\" class=\"dataframe\">\n",
       "  <thead>\n",
       "    <tr style=\"text-align: right;\">\n",
       "      <th></th>\n",
       "      <th>ID</th>\n",
       "      <th>Name</th>\n",
       "      <th>Age</th>\n",
       "      <th>Height</th>\n",
       "      <th>Weight</th>\n",
       "      <th>NOC</th>\n",
       "      <th>Year</th>\n",
       "      <th>City</th>\n",
       "      <th>Sport</th>\n",
       "      <th>Sex</th>\n",
       "      <th>Season</th>\n",
       "      <th>Win</th>\n",
       "    </tr>\n",
       "  </thead>\n",
       "  <tbody>\n",
       "    <tr>\n",
       "      <th>0</th>\n",
       "      <td>1</td>\n",
       "      <td>A Dijiang</td>\n",
       "      <td>24.0</td>\n",
       "      <td>180.0</td>\n",
       "      <td>80.0</td>\n",
       "      <td>CHN</td>\n",
       "      <td>1992</td>\n",
       "      <td>Barcelona</td>\n",
       "      <td>Basketball</td>\n",
       "      <td>1</td>\n",
       "      <td>1</td>\n",
       "      <td>0</td>\n",
       "    </tr>\n",
       "    <tr>\n",
       "      <th>1</th>\n",
       "      <td>2</td>\n",
       "      <td>A Lamusi</td>\n",
       "      <td>23.0</td>\n",
       "      <td>170.0</td>\n",
       "      <td>60.0</td>\n",
       "      <td>CHN</td>\n",
       "      <td>2012</td>\n",
       "      <td>London</td>\n",
       "      <td>Judo</td>\n",
       "      <td>1</td>\n",
       "      <td>1</td>\n",
       "      <td>0</td>\n",
       "    </tr>\n",
       "    <tr>\n",
       "      <th>4</th>\n",
       "      <td>5</td>\n",
       "      <td>Christine Jacoba Aaftink</td>\n",
       "      <td>21.0</td>\n",
       "      <td>185.0</td>\n",
       "      <td>82.0</td>\n",
       "      <td>NED</td>\n",
       "      <td>1988</td>\n",
       "      <td>Calgary</td>\n",
       "      <td>Speed Skating</td>\n",
       "      <td>0</td>\n",
       "      <td>0</td>\n",
       "      <td>0</td>\n",
       "    </tr>\n",
       "    <tr>\n",
       "      <th>5</th>\n",
       "      <td>5</td>\n",
       "      <td>Christine Jacoba Aaftink</td>\n",
       "      <td>21.0</td>\n",
       "      <td>185.0</td>\n",
       "      <td>82.0</td>\n",
       "      <td>NED</td>\n",
       "      <td>1988</td>\n",
       "      <td>Calgary</td>\n",
       "      <td>Speed Skating</td>\n",
       "      <td>0</td>\n",
       "      <td>0</td>\n",
       "      <td>0</td>\n",
       "    </tr>\n",
       "    <tr>\n",
       "      <th>6</th>\n",
       "      <td>5</td>\n",
       "      <td>Christine Jacoba Aaftink</td>\n",
       "      <td>25.0</td>\n",
       "      <td>185.0</td>\n",
       "      <td>82.0</td>\n",
       "      <td>NED</td>\n",
       "      <td>1992</td>\n",
       "      <td>Albertville</td>\n",
       "      <td>Speed Skating</td>\n",
       "      <td>0</td>\n",
       "      <td>0</td>\n",
       "      <td>0</td>\n",
       "    </tr>\n",
       "  </tbody>\n",
       "</table>\n",
       "</div>"
      ],
      "text/plain": [
       "   ID                      Name   Age  Height  Weight  NOC  Year         City  \\\n",
       "0   1                 A Dijiang  24.0   180.0    80.0  CHN  1992    Barcelona   \n",
       "1   2                  A Lamusi  23.0   170.0    60.0  CHN  2012       London   \n",
       "4   5  Christine Jacoba Aaftink  21.0   185.0    82.0  NED  1988      Calgary   \n",
       "5   5  Christine Jacoba Aaftink  21.0   185.0    82.0  NED  1988      Calgary   \n",
       "6   5  Christine Jacoba Aaftink  25.0   185.0    82.0  NED  1992  Albertville   \n",
       "\n",
       "           Sport  Sex  Season  Win  \n",
       "0     Basketball    1       1    0  \n",
       "1           Judo    1       1    0  \n",
       "4  Speed Skating    0       0    0  \n",
       "5  Speed Skating    0       0    0  \n",
       "6  Speed Skating    0       0    0  "
      ]
     },
     "execution_count": 51,
     "metadata": {},
     "output_type": "execute_result"
    }
   ],
   "source": [
    "dummies=pd.get_dummies(sport_80[['NOC']])\n",
    "\n",
    "sport_80.drop(['NOC','ID','Name','City','Year'],axis=1,inplace=True)\n",
    "\n",
    "sport_80= pd.concat([sport,dummies],axis=1)\n",
    "\n",
    "print(sport.shape)\n",
    "\n",
    "sport.head()"
   ]
  },
  {
   "cell_type": "code",
   "execution_count": null,
   "id": "51d72dbe-a63a-4a24-841d-5f923a8c8db4",
   "metadata": {},
   "outputs": [],
   "source": []
  }
 ],
 "metadata": {
  "kernelspec": {
   "display_name": "Python 3 (ipykernel)",
   "language": "python",
   "name": "python3"
  },
  "language_info": {
   "codemirror_mode": {
    "name": "ipython",
    "version": 3
   },
   "file_extension": ".py",
   "mimetype": "text/x-python",
   "name": "python",
   "nbconvert_exporter": "python",
   "pygments_lexer": "ipython3",
   "version": "3.10.0"
  }
 },
 "nbformat": 4,
 "nbformat_minor": 5
}
